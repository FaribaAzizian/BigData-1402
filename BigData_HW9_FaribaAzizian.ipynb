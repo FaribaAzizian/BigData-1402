{
  "nbformat": 4,
  "nbformat_minor": 0,
  "metadata": {
    "colab": {
      "provenance": [],
      "mount_file_id": "1w-z_OgbILGYJjYV3asPCFyJhOzbqipCt",
      "authorship_tag": "ABX9TyOT4ZP6AuoNO2X9S4S6Mzj6",
      "include_colab_link": true
    },
    "kernelspec": {
      "name": "python3",
      "display_name": "Python 3"
    },
    "language_info": {
      "name": "python"
    }
  },
  "cells": [
    {
      "cell_type": "markdown",
      "metadata": {
        "id": "view-in-github",
        "colab_type": "text"
      },
      "source": [
        "<a href=\"https://colab.research.google.com/github/FaribaAzizian/BigData-1402/blob/main/BigData_HW9_FaribaAzizian.ipynb\" target=\"_parent\"><img src=\"https://colab.research.google.com/assets/colab-badge.svg\" alt=\"Open In Colab\"/></a>"
      ]
    },
    {
      "cell_type": "markdown",
      "source": [
        "**BigData**\n",
        "\n",
        "Author: Fariba Azizian\n",
        "\n",
        "github link: https://github.com/FaribaAzizian/BigData-1402/blob/main/BigData_HW9_FaribaAzizian.ipynb"
      ],
      "metadata": {
        "id": "XSnH5tHYPOds"
      }
    },
    {
      "cell_type": "markdown",
      "source": [
        "**تمرین نهم:**\n",
        " \n",
        " این تمرین برای کار با الستیک سرچ، کیبانا و ارتباط الستیک سرچ با کاساندرا انجام شده است.\n",
        " \n",
        "لاگستش مسئول جمع‌آوری داده‌ها از تمام منابع  است که لاگ‌ها در آن‌ها بایگانی می‌شوند و همان را به الستیک سرچ منتقل می‌کند. الستیک سرچ به عنوان یک پایگاه داده عمل می کند که در آن داده ها جمع آوری می شوند و کیبانا از داده های الستیک سرچ برای نشان دادن داده‌ها به کاربر در قالب نمودارها، نمودار دایره‌ای، نقشه‌های حرارتی استفاده می‌کند."
      ],
      "metadata": {
        "id": "T3k-bMOsOMLs"
      }
    },
    {
      "cell_type": "code",
      "source": [
        "!pip install elasticsearch"
      ],
      "metadata": {
        "colab": {
          "base_uri": "https://localhost:8080/",
          "height": 0
        },
        "id": "7Qa2aVHwZsG9",
        "outputId": "d1adb052-c986-463a-8563-738d1f556385"
      },
      "execution_count": 160,
      "outputs": [
        {
          "output_type": "stream",
          "name": "stdout",
          "text": [
            "Looking in indexes: https://pypi.org/simple, https://us-python.pkg.dev/colab-wheels/public/simple/\n",
            "Requirement already satisfied: elasticsearch in /usr/local/lib/python3.10/dist-packages (8.8.0)\n",
            "Requirement already satisfied: elastic-transport<9,>=8 in /usr/local/lib/python3.10/dist-packages (from elasticsearch) (8.4.0)\n",
            "Requirement already satisfied: urllib3<2,>=1.26.2 in /usr/local/lib/python3.10/dist-packages (from elastic-transport<9,>=8->elasticsearch) (1.26.15)\n",
            "Requirement already satisfied: certifi in /usr/local/lib/python3.10/dist-packages (from elastic-transport<9,>=8->elasticsearch) (2022.12.7)\n"
          ]
        }
      ]
    },
    {
      "cell_type": "code",
      "source": [
        "#Conect to Elasticsearch\n",
        "\n",
        "from elasticsearch import *\n",
        "\n",
        "es = Elasticsearch(\"http://localhost:9200\")\n",
        "\n",
        "# successful response\n",
        "es.info()\n"
      ],
      "metadata": {
        "id": "WiTINHC1v-Dg",
        "colab": {
          "base_uri": "https://localhost:8080/",
          "height": 0
        },
        "outputId": "55b96ba7-1603-4059-aaf2-92267c7fe472"
      },
      "execution_count": 161,
      "outputs": [
        {
          "output_type": "stream",
          "name": "stderr",
          "text": [
            "<ipython-input-161-1287ac09edc3>:12: DeprecationWarning: The 'timeout' parameter is deprecated in favor of 'request_timeout'\n",
            "  es = Elasticsearch(\n"
          ]
        },
        {
          "output_type": "execute_result",
          "data": {
            "text/plain": [
              "ObjectApiResponse({'name': 'instance-0000000000', 'cluster_name': '5b29ca3f04994997bbf10c8f73763d29', 'cluster_uuid': '4_zciBQ9QhGSSinNMf6ooQ', 'version': {'number': '8.8.0', 'build_flavor': 'default', 'build_type': 'docker', 'build_hash': 'c01029875a091076ed42cdb3a41c10b1a9a5a20f', 'build_date': '2023-05-23T17:16:07.179039820Z', 'build_snapshot': False, 'lucene_version': '9.6.0', 'minimum_wire_compatibility_version': '7.17.0', 'minimum_index_compatibility_version': '7.0.0'}, 'tagline': 'You Know, for Search'})"
            ]
          },
          "metadata": {},
          "execution_count": 161
        }
      ]
    },
    {
      "cell_type": "code",
      "source": [
        "es.ping()"
      ],
      "metadata": {
        "colab": {
          "base_uri": "https://localhost:8080/"
        },
        "id": "ZpK_d4jkaJYb",
        "outputId": "80f8318c-6a10-4a91-fdb5-ab01df16515b"
      },
      "execution_count": null,
      "outputs": [
        {
          "output_type": "execute_result",
          "data": {
            "text/plain": [
              "True"
            ]
          },
          "metadata": {},
          "execution_count": 3
        }
      ]
    },
    {
      "cell_type": "code",
      "execution_count": null,
      "metadata": {
        "colab": {
          "base_uri": "https://localhost:8080/"
        },
        "id": "DFLW5usip2U-",
        "outputId": "445473e3-a3c2-401e-90b5-6a4e6ec10a33"
      },
      "outputs": [
        {
          "output_type": "stream",
          "name": "stdout",
          "text": [
            "apache-cassandra-4.0.9/bin/\n",
            "apache-cassandra-4.0.9/conf/\n",
            "apache-cassandra-4.0.9/conf/triggers/\n",
            "apache-cassandra-4.0.9/doc/\n",
            "apache-cassandra-4.0.9/doc/cql3/\n",
            "apache-cassandra-4.0.9/lib/\n",
            "apache-cassandra-4.0.9/lib/sigar-bin/\n",
            "apache-cassandra-4.0.9/pylib/\n",
            "apache-cassandra-4.0.9/pylib/cqlshlib/\n",
            "apache-cassandra-4.0.9/pylib/cqlshlib/test/\n",
            "apache-cassandra-4.0.9/pylib/cqlshlib/test/config/\n",
            "apache-cassandra-4.0.9/tools/\n",
            "apache-cassandra-4.0.9/tools/bin/\n",
            "apache-cassandra-4.0.9/tools/lib/\n",
            "apache-cassandra-4.0.9/CASSANDRA-14092.txt\n",
            "apache-cassandra-4.0.9/CHANGES.txt\n",
            "apache-cassandra-4.0.9/LICENSE.txt\n",
            "apache-cassandra-4.0.9/NEWS.txt\n",
            "apache-cassandra-4.0.9/NOTICE.txt\n",
            "apache-cassandra-4.0.9/conf/README.txt\n",
            "apache-cassandra-4.0.9/conf/cassandra-env.sh\n",
            "apache-cassandra-4.0.9/conf/cassandra-jaas.config\n",
            "apache-cassandra-4.0.9/conf/cassandra-rackdc.properties\n",
            "apache-cassandra-4.0.9/conf/cassandra-topology.properties\n",
            "apache-cassandra-4.0.9/conf/cassandra.yaml\n",
            "apache-cassandra-4.0.9/conf/commitlog_archiving.properties\n",
            "apache-cassandra-4.0.9/conf/cqlshrc.sample\n",
            "apache-cassandra-4.0.9/conf/hotspot_compiler\n",
            "apache-cassandra-4.0.9/conf/jvm-clients.options\n",
            "apache-cassandra-4.0.9/conf/jvm-server.options\n",
            "apache-cassandra-4.0.9/conf/jvm11-clients.options\n",
            "apache-cassandra-4.0.9/conf/jvm11-server.options\n",
            "apache-cassandra-4.0.9/conf/jvm8-clients.options\n",
            "apache-cassandra-4.0.9/conf/jvm8-server.options\n",
            "apache-cassandra-4.0.9/conf/logback-tools.xml\n",
            "apache-cassandra-4.0.9/conf/logback.xml\n",
            "apache-cassandra-4.0.9/conf/metrics-reporter-config-sample.yaml\n",
            "apache-cassandra-4.0.9/conf/triggers/README.txt\n",
            "apache-cassandra-4.0.9/doc/SASI.md\n",
            "apache-cassandra-4.0.9/doc/cql3/CQL.css\n",
            "apache-cassandra-4.0.9/doc/cql3/CQL.html\n",
            "apache-cassandra-4.0.9/lib/HdrHistogram-2.1.9.jar\n",
            "apache-cassandra-4.0.9/lib/ST4-4.0.8.jar\n",
            "apache-cassandra-4.0.9/lib/airline-0.8.jar\n",
            "apache-cassandra-4.0.9/lib/antlr-runtime-3.5.2.jar\n",
            "apache-cassandra-4.0.9/lib/apache-cassandra-4.0.9.jar\n",
            "apache-cassandra-4.0.9/lib/asm-7.1.jar\n",
            "apache-cassandra-4.0.9/lib/caffeine-2.5.6.jar\n",
            "apache-cassandra-4.0.9/lib/cassandra-driver-core-3.11.0-shaded.jar\n",
            "apache-cassandra-4.0.9/lib/cassandra-driver-internal-only-3.25.0.zip\n",
            "apache-cassandra-4.0.9/lib/chronicle-bytes-2.20.111.jar\n",
            "apache-cassandra-4.0.9/lib/chronicle-core-2.20.126.jar\n",
            "apache-cassandra-4.0.9/lib/chronicle-queue-5.20.123.jar\n",
            "apache-cassandra-4.0.9/lib/chronicle-threads-2.20.111.jar\n",
            "apache-cassandra-4.0.9/lib/chronicle-wire-2.20.117.jar\n",
            "apache-cassandra-4.0.9/lib/commons-cli-1.1.jar\n",
            "apache-cassandra-4.0.9/lib/commons-codec-1.9.jar\n",
            "apache-cassandra-4.0.9/lib/commons-lang3-3.11.jar\n",
            "apache-cassandra-4.0.9/lib/commons-math3-3.2.jar\n",
            "apache-cassandra-4.0.9/lib/concurrent-trees-2.4.0.jar\n",
            "apache-cassandra-4.0.9/lib/ecj-4.6.1.jar\n",
            "apache-cassandra-4.0.9/lib/futures-2.1.6-py2.py3-none-any.zip\n",
            "apache-cassandra-4.0.9/lib/geomet-0.1.0.zip\n",
            "apache-cassandra-4.0.9/lib/guava-27.0-jre.jar\n",
            "apache-cassandra-4.0.9/lib/high-scale-lib-1.0.6.jar\n",
            "apache-cassandra-4.0.9/lib/hppc-0.8.1.jar\n",
            "apache-cassandra-4.0.9/lib/j2objc-annotations-1.3.jar\n",
            "apache-cassandra-4.0.9/lib/jackson-annotations-2.13.2.jar\n",
            "apache-cassandra-4.0.9/lib/jackson-core-2.13.2.jar\n",
            "apache-cassandra-4.0.9/lib/jackson-databind-2.13.2.2.jar\n",
            "apache-cassandra-4.0.9/lib/jamm-0.3.2.jar\n",
            "apache-cassandra-4.0.9/lib/java-cup-runtime-11b-20160615.jar\n",
            "apache-cassandra-4.0.9/lib/javax.inject-1.jar\n",
            "apache-cassandra-4.0.9/lib/jbcrypt-0.4.jar\n",
            "apache-cassandra-4.0.9/lib/jcl-over-slf4j-1.7.25.jar\n",
            "apache-cassandra-4.0.9/lib/jcommander-1.30.jar\n",
            "apache-cassandra-4.0.9/lib/jctools-core-3.1.0.jar\n",
            "apache-cassandra-4.0.9/lib/jflex-1.8.2.jar\n",
            "apache-cassandra-4.0.9/lib/jna-5.6.0.jar\n",
            "apache-cassandra-4.0.9/lib/json-simple-1.1.jar\n",
            "apache-cassandra-4.0.9/lib/jvm-attach-api-1.5.jar\n",
            "apache-cassandra-4.0.9/lib/log4j-over-slf4j-1.7.25.jar\n",
            "apache-cassandra-4.0.9/lib/logback-classic-1.2.9.jar\n",
            "apache-cassandra-4.0.9/lib/logback-core-1.2.9.jar\n",
            "apache-cassandra-4.0.9/lib/lz4-java-1.8.0.jar\n",
            "apache-cassandra-4.0.9/lib/metrics-core-3.1.5.jar\n",
            "apache-cassandra-4.0.9/lib/metrics-jvm-3.1.5.jar\n",
            "apache-cassandra-4.0.9/lib/metrics-logback-3.1.5.jar\n",
            "apache-cassandra-4.0.9/lib/mxdump-0.14.jar\n",
            "apache-cassandra-4.0.9/lib/netty-all-4.1.58.Final.jar\n",
            "apache-cassandra-4.0.9/lib/netty-tcnative-boringssl-static-2.0.36.Final.jar\n",
            "apache-cassandra-4.0.9/lib/ohc-core-0.5.1.jar\n",
            "apache-cassandra-4.0.9/lib/ohc-core-j8-0.5.1.jar\n",
            "apache-cassandra-4.0.9/lib/psjava-0.1.19.jar\n",
            "apache-cassandra-4.0.9/lib/reporter-config-base-3.0.3.jar\n",
            "apache-cassandra-4.0.9/lib/reporter-config3-3.0.3.jar\n",
            "apache-cassandra-4.0.9/lib/sigar-1.6.4.jar\n",
            "apache-cassandra-4.0.9/lib/sigar-bin/libsigar-amd64-freebsd-6.so\n",
            "apache-cassandra-4.0.9/lib/sigar-bin/libsigar-amd64-linux.so\n",
            "apache-cassandra-4.0.9/lib/sigar-bin/libsigar-amd64-solaris.so\n",
            "apache-cassandra-4.0.9/lib/sigar-bin/libsigar-ia64-hpux-11.sl\n",
            "apache-cassandra-4.0.9/lib/sigar-bin/libsigar-ia64-linux.so\n",
            "apache-cassandra-4.0.9/lib/sigar-bin/libsigar-pa-hpux-11.sl\n",
            "apache-cassandra-4.0.9/lib/sigar-bin/libsigar-ppc-aix-5.so\n",
            "apache-cassandra-4.0.9/lib/sigar-bin/libsigar-ppc-linux.so\n",
            "apache-cassandra-4.0.9/lib/sigar-bin/libsigar-ppc64-aix-5.so\n",
            "apache-cassandra-4.0.9/lib/sigar-bin/libsigar-ppc64-linux.so\n",
            "apache-cassandra-4.0.9/lib/sigar-bin/libsigar-ppc64le-linux.so\n",
            "apache-cassandra-4.0.9/lib/sigar-bin/libsigar-s390x-linux.so\n",
            "apache-cassandra-4.0.9/lib/sigar-bin/libsigar-sparc-solaris.so\n",
            "apache-cassandra-4.0.9/lib/sigar-bin/libsigar-sparc64-solaris.so\n",
            "apache-cassandra-4.0.9/lib/sigar-bin/libsigar-universal-macosx.dylib\n",
            "apache-cassandra-4.0.9/lib/sigar-bin/libsigar-universal64-macosx.dylib\n",
            "apache-cassandra-4.0.9/lib/sigar-bin/libsigar-x86-freebsd-5.so\n",
            "apache-cassandra-4.0.9/lib/sigar-bin/libsigar-x86-freebsd-6.so\n",
            "apache-cassandra-4.0.9/lib/sigar-bin/libsigar-x86-linux.so\n",
            "apache-cassandra-4.0.9/lib/sigar-bin/libsigar-x86-solaris.so\n",
            "apache-cassandra-4.0.9/lib/sigar-bin/sigar-amd64-winnt.dll\n",
            "apache-cassandra-4.0.9/lib/sigar-bin/sigar-x86-winnt.dll\n",
            "apache-cassandra-4.0.9/lib/sigar-bin/sigar-x86-winnt.lib\n",
            "apache-cassandra-4.0.9/lib/six-1.12.0-py2.py3-none-any.zip\n",
            "apache-cassandra-4.0.9/lib/sjk-cli-0.14.jar\n",
            "apache-cassandra-4.0.9/lib/sjk-core-0.14.jar\n",
            "apache-cassandra-4.0.9/lib/sjk-json-0.14.jar\n",
            "apache-cassandra-4.0.9/lib/sjk-stacktrace-0.14.jar\n",
            "apache-cassandra-4.0.9/lib/slf4j-api-1.7.25.jar\n",
            "apache-cassandra-4.0.9/lib/snakeyaml-1.26.jar\n",
            "apache-cassandra-4.0.9/lib/snappy-java-1.1.2.6.jar\n",
            "apache-cassandra-4.0.9/lib/snowball-stemmer-1.3.0.581.1.jar\n",
            "apache-cassandra-4.0.9/lib/stream-2.5.2.jar\n",
            "apache-cassandra-4.0.9/lib/zstd-jni-1.5.5-1.jar\n",
            "apache-cassandra-4.0.9/pylib/Dockerfile.ubuntu.py2\n",
            "apache-cassandra-4.0.9/pylib/Dockerfile.ubuntu.py3\n",
            "apache-cassandra-4.0.9/pylib/Dockerfile.ubuntu.py37\n",
            "apache-cassandra-4.0.9/pylib/Dockerfile.ubuntu.py38\n",
            "apache-cassandra-4.0.9/pylib/README.asc\n",
            "apache-cassandra-4.0.9/pylib/cassandra-cqlsh-tests.sh\n",
            "apache-cassandra-4.0.9/pylib/cqlshlib/__init__.py\n",
            "apache-cassandra-4.0.9/pylib/cqlshlib/copyutil.py\n",
            "apache-cassandra-4.0.9/pylib/cqlshlib/cql3handling.py\n",
            "apache-cassandra-4.0.9/pylib/cqlshlib/cqlhandling.py\n",
            "apache-cassandra-4.0.9/pylib/cqlshlib/cqlshhandling.py\n",
            "apache-cassandra-4.0.9/pylib/cqlshlib/displaying.py\n",
            "apache-cassandra-4.0.9/pylib/cqlshlib/formatting.py\n",
            "apache-cassandra-4.0.9/pylib/cqlshlib/helptopics.py\n",
            "apache-cassandra-4.0.9/pylib/cqlshlib/pylexotron.py\n",
            "apache-cassandra-4.0.9/pylib/cqlshlib/saferscanner.py\n",
            "apache-cassandra-4.0.9/pylib/cqlshlib/setup.cfg\n",
            "apache-cassandra-4.0.9/pylib/cqlshlib/sslhandling.py\n",
            "apache-cassandra-4.0.9/pylib/cqlshlib/test/__init__.py\n",
            "apache-cassandra-4.0.9/pylib/cqlshlib/test/ansi_colors.py\n",
            "apache-cassandra-4.0.9/pylib/cqlshlib/test/basecase.py\n",
            "apache-cassandra-4.0.9/pylib/cqlshlib/test/cassconnect.py\n",
            "apache-cassandra-4.0.9/pylib/cqlshlib/test/config/sslhandling.config\n",
            "apache-cassandra-4.0.9/pylib/cqlshlib/test/config/sslhandling_invalid.config\n",
            "apache-cassandra-4.0.9/pylib/cqlshlib/test/run_cqlsh.py\n",
            "apache-cassandra-4.0.9/pylib/cqlshlib/test/test_constants.py\n",
            "apache-cassandra-4.0.9/pylib/cqlshlib/test/test_copyutil.py\n",
            "apache-cassandra-4.0.9/pylib/cqlshlib/test/test_cql_parsing.py\n",
            "apache-cassandra-4.0.9/pylib/cqlshlib/test/test_cqlsh_completion.py\n",
            "apache-cassandra-4.0.9/pylib/cqlshlib/test/test_cqlsh_output.py\n",
            "apache-cassandra-4.0.9/pylib/cqlshlib/test/test_keyspace_init.cql\n",
            "apache-cassandra-4.0.9/pylib/cqlshlib/test/test_sslhandling.py\n",
            "apache-cassandra-4.0.9/pylib/cqlshlib/test/test_unicode.py\n",
            "apache-cassandra-4.0.9/pylib/cqlshlib/test/winpty.py\n",
            "apache-cassandra-4.0.9/pylib/cqlshlib/tracing.py\n",
            "apache-cassandra-4.0.9/pylib/cqlshlib/util.py\n",
            "apache-cassandra-4.0.9/pylib/cqlshlib/wcwidth.py\n",
            "apache-cassandra-4.0.9/pylib/pytest.ini\n",
            "apache-cassandra-4.0.9/pylib/requirements.txt\n",
            "apache-cassandra-4.0.9/pylib/setup.py\n",
            "apache-cassandra-4.0.9/tools/cqlstress-counter-example.yaml\n",
            "apache-cassandra-4.0.9/tools/cqlstress-example.yaml\n",
            "apache-cassandra-4.0.9/tools/cqlstress-insanity-example.yaml\n",
            "apache-cassandra-4.0.9/tools/cqlstress-lwt-example.yaml\n",
            "apache-cassandra-4.0.9/tools/lib/fqltool.jar\n",
            "apache-cassandra-4.0.9/tools/lib/stress.jar\n",
            "apache-cassandra-4.0.9/bin/cassandra.in.sh\n",
            "apache-cassandra-4.0.9/tools/bin/cassandra.in.sh\n",
            "apache-cassandra-4.0.9/bin/cassandra\n",
            "apache-cassandra-4.0.9/bin/cqlsh\n",
            "apache-cassandra-4.0.9/bin/cqlsh.py\n",
            "apache-cassandra-4.0.9/bin/debug-cql\n",
            "apache-cassandra-4.0.9/bin/nodetool\n",
            "apache-cassandra-4.0.9/bin/sstableloader\n",
            "apache-cassandra-4.0.9/bin/sstablescrub\n",
            "apache-cassandra-4.0.9/bin/sstableupgrade\n",
            "apache-cassandra-4.0.9/bin/sstableutil\n",
            "apache-cassandra-4.0.9/bin/sstableverify\n",
            "apache-cassandra-4.0.9/bin/stop-server\n",
            "apache-cassandra-4.0.9/tools/bin/auditlogviewer\n",
            "apache-cassandra-4.0.9/tools/bin/cassandra-stress\n",
            "apache-cassandra-4.0.9/tools/bin/cassandra-stressd\n",
            "apache-cassandra-4.0.9/tools/bin/compaction-stress\n",
            "apache-cassandra-4.0.9/tools/bin/fqltool\n",
            "apache-cassandra-4.0.9/tools/bin/generatetokens\n",
            "apache-cassandra-4.0.9/tools/bin/jmxtool\n",
            "apache-cassandra-4.0.9/tools/bin/sstabledump\n",
            "apache-cassandra-4.0.9/tools/bin/sstableexpiredblockers\n",
            "apache-cassandra-4.0.9/tools/bin/sstablelevelreset\n",
            "apache-cassandra-4.0.9/tools/bin/sstablemetadata\n",
            "apache-cassandra-4.0.9/tools/bin/sstableofflinerelevel\n",
            "apache-cassandra-4.0.9/tools/bin/sstablerepairedset\n",
            "apache-cassandra-4.0.9/tools/bin/sstablesplit\n"
          ]
        }
      ],
      "source": [
        "# install java, it is not needed if installed\n",
        "!apt-get install openjdk-8-jdk-headless -qq > /dev/null\n",
        "# download and install cassandra\n",
        "!wget -q https://archive.apache.org/dist/cassandra/4.0.9/apache-cassandra-4.0.9-bin.tar.gz\n",
        "# unzip the cassandra file to the current folder\n",
        "!tar -xzvf apache-cassandra-4.0.9-bin.tar.gz"
      ]
    },
    {
      "cell_type": "code",
      "source": [
        "!wget -q https://dlcdn.apache.org/spark/spark-3.3.2/spark-3.3.2-bin-hadoop3.tgz\n",
        "!tar xf spark-3.3.2-bin-hadoop3.tgz"
      ],
      "metadata": {
        "id": "udSQDJNC9TrQ"
      },
      "execution_count": null,
      "outputs": []
    },
    {
      "cell_type": "code",
      "source": [
        "# set spark path to system path environment\n",
        "import os\n",
        "os.environ[\"JAVA_HOME\"] = \"/usr/lib/jvm/java-8-openjdk-amd64\"\n",
        "os.environ[\"CASSANDRA_HOME\"] = \"/content/apache-cassandra-4.0.9\"\n",
        "os.environ[\"SPARK_HOME\"] = '/content/spark-3.3.2-bin-hadoop3'"
      ],
      "metadata": {
        "id": "OMgNlNzyqjxH"
      },
      "execution_count": null,
      "outputs": []
    },
    {
      "cell_type": "code",
      "source": [
        "!./apache-cassandra-4.0.9/bin/cassandra -R\n",
        "!echo \"Waiting for 10 secs until cassandra services are up and running\"\n",
        "!sleep 10"
      ],
      "metadata": {
        "colab": {
          "base_uri": "https://localhost:8080/"
        },
        "id": "DplDa5j2qql3",
        "outputId": "68b264ae-c02e-49c7-f633-8a43f9888d8e"
      },
      "execution_count": null,
      "outputs": [
        {
          "output_type": "stream",
          "name": "stdout",
          "text": [
            "CompilerOracle: dontinline org/apache/cassandra/db/Columns$Serializer.deserializeLargeSubset (Lorg/apache/cassandra/io/util/DataInputPlus;Lorg/apache/cassandra/db/Columns;I)Lorg/apache/cassandra/db/Columns;\n",
            "CompilerOracle: dontinline org/apache/cassandra/db/Columns$Serializer.serializeLargeSubset (Ljava/util/Collection;ILorg/apache/cassandra/db/Columns;ILorg/apache/cassandra/io/util/DataOutputPlus;)V\n",
            "CompilerOracle: dontinline org/apache/cassandra/db/Columns$Serializer.serializeLargeSubsetSize (Ljava/util/Collection;ILorg/apache/cassandra/db/Columns;I)I\n",
            "CompilerOracle: dontinline org/apache/cassandra/db/commitlog/AbstractCommitLogSegmentManager.advanceAllocatingFrom (Lorg/apache/cassandra/db/commitlog/CommitLogSegment;)V\n",
            "CompilerOracle: dontinline org/apache/cassandra/db/transform/BaseIterator.tryGetMoreContents ()Z\n",
            "CompilerOracle: dontinline org/apache/cassandra/db/transform/StoppingTransformation.stop ()V\n",
            "CompilerOracle: dontinline org/apache/cassandra/db/transform/StoppingTransformation.stopInPartition ()V\n",
            "CompilerOracle: dontinline org/apache/cassandra/io/util/BufferedDataOutputStreamPlus.doFlush (I)V\n",
            "CompilerOracle: dontinline org/apache/cassandra/io/util/BufferedDataOutputStreamPlus.writeSlow (JI)V\n",
            "CompilerOracle: dontinline org/apache/cassandra/io/util/RebufferingInputStream.readPrimitiveSlowly (I)J\n",
            "CompilerOracle: exclude org/apache/cassandra/utils/JVMStabilityInspector.forceHeapSpaceOomMaybe (Ljava/lang/OutOfMemoryError;)V\n",
            "CompilerOracle: inline org/apache/cassandra/db/rows/UnfilteredSerializer.serializeRowBody (Lorg/apache/cassandra/db/rows/Row;ILorg/apache/cassandra/db/rows/SerializationHelper;Lorg/apache/cassandra/io/util/DataOutputPlus;)V\n",
            "CompilerOracle: inline org/apache/cassandra/io/util/Memory.checkBounds (JJ)V\n",
            "CompilerOracle: inline org/apache/cassandra/io/util/SafeMemory.checkBounds (JJ)V\n",
            "CompilerOracle: inline org/apache/cassandra/net/FrameDecoderWith8bHeader.decode (Ljava/util/Collection;Lorg/apache/cassandra/net/ShareableBytes;I)V\n",
            "CompilerOracle: inline org/apache/cassandra/service/reads/repair/RowIteratorMergeListener.applyToPartition (ILjava/util/function/Consumer;)V\n",
            "CompilerOracle: inline org/apache/cassandra/utils/AsymmetricOrdering.selectBoundary (Lorg/apache/cassandra/utils/AsymmetricOrdering/Op;II)I\n",
            "CompilerOracle: inline org/apache/cassandra/utils/AsymmetricOrdering.strictnessOfLessThan (Lorg/apache/cassandra/utils/AsymmetricOrdering/Op;)I\n",
            "CompilerOracle: inline org/apache/cassandra/utils/BloomFilter.indexes (Lorg/apache/cassandra/utils/IFilter/FilterKey;)[J\n",
            "CompilerOracle: inline org/apache/cassandra/utils/BloomFilter.setIndexes (JJIJ[J)V\n",
            "CompilerOracle: inline org/apache/cassandra/utils/ByteBufferUtil.compare (Ljava/nio/ByteBuffer;[B)I\n",
            "CompilerOracle: inline org/apache/cassandra/utils/ByteBufferUtil.compare ([BLjava/nio/ByteBuffer;)I\n",
            "CompilerOracle: inline org/apache/cassandra/utils/ByteBufferUtil.compareUnsigned (Ljava/nio/ByteBuffer;Ljava/nio/ByteBuffer;)I\n",
            "CompilerOracle: inline org/apache/cassandra/utils/FastByteOperations$UnsafeOperations.compareTo (Ljava/lang/Object;JILjava/lang/Object;JI)I\n",
            "CompilerOracle: inline org/apache/cassandra/utils/FastByteOperations$UnsafeOperations.compareTo (Ljava/lang/Object;JILjava/nio/ByteBuffer;)I\n",
            "CompilerOracle: inline org/apache/cassandra/utils/FastByteOperations$UnsafeOperations.compareTo (Ljava/nio/ByteBuffer;Ljava/nio/ByteBuffer;)I\n",
            "CompilerOracle: inline org/apache/cassandra/utils/memory/BufferPool$LocalPool.tryGetInternal (IZ)Ljava/nio/ByteBuffer;\n",
            "CompilerOracle: inline org/apache/cassandra/utils/vint/VIntCoding.encodeUnsignedVInt (JI)[B\n",
            "CompilerOracle: inline org/apache/cassandra/utils/vint/VIntCoding.encodeUnsignedVInt (JI[B)V\n",
            "CompilerOracle: inline org/apache/cassandra/utils/vint/VIntCoding.writeUnsignedVInt (JLjava/io/DataOutput;)V\n",
            "CompilerOracle: inline org/apache/cassandra/utils/vint/VIntCoding.writeUnsignedVInt (JLjava/nio/ByteBuffer;)V\n",
            "CompilerOracle: inline org/apache/cassandra/utils/vint/VIntCoding.writeVInt (JLjava/io/DataOutput;)V\n",
            "INFO  [main] 2023-06-05 12:43:37,303 YamlConfigurationLoader.java:97 - Configuration location: file:/content/apache-cassandra-4.0.9/conf/cassandra.yaml\n",
            "INFO  [main] 2023-06-05 12:43:38,010 Config.java:708 - Node configuration:[allocate_tokens_for_keyspace=null; allocate_tokens_for_local_replication_factor=3; allow_extra_insecure_udfs=false; allow_insecure_udfs=false; audit_logging_options=AuditLogOptions{enabled=false, logger='BinAuditLogger', included_keyspaces='', excluded_keyspaces='system,system_schema,system_virtual_schema', included_categories='', excluded_categories='', included_users='', excluded_users='', audit_logs_dir='/content/apache-cassandra-4.0.9/logs/audit/', archive_command='', roll_cycle='HOURLY', block=true, max_queue_weight=268435456, max_log_size=17179869184}; authenticator=AllowAllAuthenticator; authorizer=AllowAllAuthorizer; auto_bootstrap=true; auto_optimise_full_repair_streams=false; auto_optimise_inc_repair_streams=false; auto_optimise_preview_repair_streams=false; auto_snapshot=true; autocompaction_on_startup_enabled=true; automatic_sstable_upgrade=false; back_pressure_enabled=false; back_pressure_strategy=null; batch_size_fail_threshold_in_kb=50; batch_size_warn_threshold_in_kb=5; batchlog_replay_throttle_in_kb=1024; block_for_peers_in_remote_dcs=false; block_for_peers_timeout_in_secs=10; broadcast_address=null; broadcast_rpc_address=null; buffer_pool_use_heap_if_exhausted=false; cache_load_timeout_seconds=30; cas_contention_timeout_in_ms=1000; cdc_enabled=false; cdc_free_space_check_interval_ms=250; cdc_raw_directory=null; cdc_total_space_in_mb=0; check_for_duplicate_rows_during_compaction=true; check_for_duplicate_rows_during_reads=true; client_encryption_options=<REDACTED>; cluster_name=Test Cluster; column_index_cache_size_in_kb=2; column_index_size_in_kb=64; commit_failure_policy=stop; commitlog_compression=null; commitlog_directory=null; commitlog_max_compression_buffers_in_pool=3; commitlog_periodic_queue_size=-1; commitlog_segment_size_in_mb=32; commitlog_sync=periodic; commitlog_sync_batch_window_in_ms=NaN; commitlog_sync_group_window_in_ms=NaN; commitlog_sync_period_in_ms=10000; commitlog_total_space_in_mb=null; compaction_large_partition_warning_threshold_mb=100; compaction_throughput_mb_per_sec=64; concurrent_compactors=null; concurrent_counter_writes=32; concurrent_materialized_view_builders=1; concurrent_materialized_view_writes=32; concurrent_reads=32; concurrent_replicates=null; concurrent_validations=0; concurrent_writes=32; consecutive_message_errors_threshold=1; corrupted_tombstone_strategy=disabled; counter_cache_keys_to_save=2147483647; counter_cache_save_period=7200; counter_cache_size_in_mb=null; counter_write_request_timeout_in_ms=5000; credentials_cache_max_entries=1000; credentials_update_interval_in_ms=-1; credentials_validity_in_ms=2000; cross_node_timeout=true; data_file_directories=[Ljava.lang.String;@173ed316; diagnostic_events_enabled=false; disk_access_mode=auto; disk_failure_policy=stop; disk_optimization_estimate_percentile=0.95; disk_optimization_page_cross_chance=0.1; disk_optimization_strategy=ssd; dynamic_snitch=true; dynamic_snitch_badness_threshold=1.0; dynamic_snitch_reset_interval_in_ms=600000; dynamic_snitch_update_interval_in_ms=100; enable_drop_compact_storage=false; enable_materialized_views=false; enable_sasi_indexes=false; enable_scripted_user_defined_functions=false; enable_transient_replication=false; enable_user_defined_functions=false; enable_user_defined_functions_threads=true; endpoint_snitch=SimpleSnitch; file_cache_enabled=false; file_cache_round_up=null; file_cache_size_in_mb=null; flush_compression=fast; force_new_prepared_statement_behaviour=false; full_query_logging_options=FullQueryLoggerOptions{log_dir='', archive_command='', roll_cycle='HOURLY', block=true, max_queue_weight=268435456, max_log_size=17179869184}; gc_log_threshold_in_ms=200; gc_warn_threshold_in_ms=1000; hinted_handoff_disabled_datacenters=[]; hinted_handoff_enabled=true; hinted_handoff_throttle_in_kb=1024; hints_compression=null; hints_directory=null; hints_flush_period_in_ms=10000; ideal_consistency_level=null; incremental_backups=false; index_summary_capacity_in_mb=null; index_summary_resize_interval_in_minutes=60; initial_range_tombstone_list_allocation_size=1; initial_token=null; inter_dc_stream_throughput_outbound_megabits_per_sec=200; inter_dc_tcp_nodelay=false; internode_application_receive_queue_capacity_in_bytes=4194304; internode_application_receive_queue_reserve_endpoint_capacity_in_bytes=134217728; internode_application_receive_queue_reserve_global_capacity_in_bytes=536870912; internode_application_send_queue_capacity_in_bytes=4194304; internode_application_send_queue_reserve_endpoint_capacity_in_bytes=134217728; internode_application_send_queue_reserve_global_capacity_in_bytes=536870912; internode_authenticator=null; internode_compression=dc; internode_max_message_size_in_bytes=null; internode_socket_receive_buffer_size_in_bytes=0; internode_socket_send_buffer_size_in_bytes=0; internode_streaming_tcp_user_timeout_in_ms=300000; internode_tcp_connect_timeout_in_ms=2000; internode_tcp_user_timeout_in_ms=30000; key_cache_keys_to_save=2147483647; key_cache_migrate_during_compaction=true; key_cache_save_period=14400; key_cache_size_in_mb=null; keyspace_count_warn_threshold=40; listen_address=localhost; listen_interface=null; listen_interface_prefer_ipv6=false; listen_on_broadcast_address=false; local_system_data_file_directory=null; max_concurrent_automatic_sstable_upgrades=1; max_hint_window_in_ms=10800000; max_hints_delivery_threads=2; max_hints_file_size_in_mb=128; max_mutation_size_in_kb=null; max_streaming_retries=3; max_value_size_in_mb=256; memtable_allocation_type=heap_buffers; memtable_cleanup_threshold=null; memtable_flush_writers=0; memtable_heap_space_in_mb=null; memtable_offheap_space_in_mb=null; min_free_space_per_drive_in_mb=50; native_transport_allow_older_protocols=true; native_transport_flush_in_batches_legacy=false; native_transport_idle_timeout_in_ms=0; native_transport_max_concurrent_connections=-1; native_transport_max_concurrent_connections_per_ip=-1; native_transport_max_concurrent_requests_in_bytes=-1; native_transport_max_concurrent_requests_in_bytes_per_ip=-1; native_transport_max_frame_size_in_mb=256; native_transport_max_negotiable_protocol_version=null; native_transport_max_threads=128; native_transport_port=9042; native_transport_port_ssl=null; native_transport_receive_queue_capacity_in_bytes=1048576; network_authorizer=AllowAllNetworkAuthorizer; networking_cache_size_in_mb=null; num_tokens=16; otc_backlog_expiration_interval_ms=200; otc_coalescing_enough_coalesced_messages=8; otc_coalescing_strategy=DISABLED; otc_coalescing_window_us=200; partitioner=org.apache.cassandra.dht.Murmur3Partitioner; periodic_commitlog_sync_lag_block_in_ms=null; permissions_cache_max_entries=1000; permissions_update_interval_in_ms=-1; permissions_validity_in_ms=2000; phi_convict_threshold=8.0; prepared_statements_cache_size_mb=null; range_request_timeout_in_ms=10000; range_tombstone_list_growth_factor=1.5; read_request_timeout_in_ms=5000; reject_repair_compaction_threshold=2147483647; repair_command_pool_full_strategy=queue; repair_command_pool_size=0; repair_request_timeout_in_ms=60000; repair_session_max_tree_depth=null; repair_session_space_in_mb=null; repaired_data_tracking_for_partition_reads_enabled=false; repaired_data_tracking_for_range_reads_enabled=false; report_unconfirmed_repaired_data_mismatches=false; request_timeout_in_ms=10000; role_manager=CassandraRoleManager; roles_cache_max_entries=1000; roles_update_interval_in_ms=-1; roles_validity_in_ms=2000; row_cache_class_name=org.apache.cassandra.cache.OHCProvider; row_cache_keys_to_save=2147483647; row_cache_save_period=0; row_cache_size_in_mb=0; rpc_address=localhost; rpc_interface=null; rpc_interface_prefer_ipv6=false; rpc_keepalive=true; saved_caches_directory=null; seed_provider=org.apache.cassandra.locator.SimpleSeedProvider{seeds=127.0.0.1:7000}; server_encryption_options=<REDACTED>; slow_query_log_timeout_in_ms=500; snapshot_before_compaction=false; snapshot_links_per_second=0; snapshot_on_duplicate_row_detection=false; snapshot_on_repaired_data_mismatch=false; ssl_storage_port=7001; sstable_preemptive_open_interval_in_mb=50; start_native_transport=true; storage_port=7000; stream_entire_sstables=true; stream_throughput_outbound_megabits_per_sec=200; streaming_connections_per_host=1; streaming_keep_alive_period_in_secs=300; table_count_warn_threshold=150; tombstone_failure_threshold=100000; tombstone_warn_threshold=1000; tracetype_query_ttl=86400; tracetype_repair_ttl=604800; transparent_data_encryption_options=org.apache.cassandra.config.TransparentDataEncryptionOptions@25ce9dc4; trickle_fsync=false; trickle_fsync_interval_in_kb=10240; truncate_request_timeout_in_ms=60000; unlogged_batch_across_partitions_warn_threshold=10; use_offheap_merkle_trees=true; user_defined_function_fail_timeout=1500; user_defined_function_warn_timeout=500; user_function_timeout_policy=die; validation_preview_purge_head_start_in_sec=3600; windows_timer_interval=1; write_request_timeout_in_ms=2000]\n",
            "INFO  [main] 2023-06-05 12:43:38,022 DatabaseDescriptor.java:416 - DiskAccessMode 'auto' determined to be mmap, indexAccessMode is mmap\n",
            "INFO  [main] 2023-06-05 12:43:38,022 DatabaseDescriptor.java:477 - Global memtable on-heap threshold is enabled at 806MB\n",
            "INFO  [main] 2023-06-05 12:43:38,023 DatabaseDescriptor.java:481 - Global memtable off-heap threshold is enabled at 806MB\n",
            "INFO  [main] 2023-06-05 12:43:38,182 JMXServerUtils.java:271 - Configured JMX server at: service:jmx:rmi://127.0.0.1/jndi/rmi://127.0.0.1:7199/jmxrmi\n",
            "INFO  [main] 2023-06-05 12:43:38,204 CassandraDaemon.java:625 - Hostname: f87d4dc32a88:7000:7001\n",
            "INFO  [main] 2023-06-05 12:43:38,209 CassandraDaemon.java:632 - JVM vendor/version: OpenJDK 64-Bit Server VM/1.8.0_362\n",
            "INFO  [main] 2023-06-05 12:43:38,211 CassandraDaemon.java:633 - Heap size: 3.150GiB/3.150GiB\n",
            "INFO  [main] 2023-06-05 12:43:38,213 CassandraDaemon.java:638 - Code Cache Non-heap memory: init = 2555904(2496K) used = 4883200(4768K) committed = 4915200(4800K) max = 251658240(245760K)\n",
            "INFO  [main] 2023-06-05 12:43:38,214 CassandraDaemon.java:638 - Metaspace Non-heap memory: init = 0(0K) used = 22974440(22435K) committed = 23769088(23212K) max = -1(-1K)\n",
            "INFO  [main] 2023-06-05 12:43:38,215 CassandraDaemon.java:638 - Compressed Class Space Non-heap memory: init = 0(0K) used = 2695384(2632K) committed = 2904064(2836K) max = 1073741824(1048576K)\n",
            "INFO  [main] 2023-06-05 12:43:38,220 CassandraDaemon.java:638 - Par Eden Space Heap memory: init = 167772160(163840K) used = 114140648(111465K) committed = 167772160(163840K) max = 167772160(163840K)\n",
            "INFO  [main] 2023-06-05 12:43:38,222 CassandraDaemon.java:638 - Par Survivor Space Heap memory: init = 20971520(20480K) used = 0(0K) committed = 20971520(20480K) max = 20971520(20480K)\n",
            "INFO  [main] 2023-06-05 12:43:38,223 CassandraDaemon.java:638 - CMS Old Gen Heap memory: init = 3193962496(3119104K) used = 0(0K) committed = 3193962496(3119104K) max = 3193962496(3119104K)\n",
            "INFO  [main] 2023-06-05 12:43:38,226 CassandraDaemon.java:640 - Classpath: /content/apache-cassandra-4.0.9/conf:/content/apache-cassandra-4.0.9/lib/HdrHistogram-2.1.9.jar:/content/apache-cassandra-4.0.9/lib/ST4-4.0.8.jar:/content/apache-cassandra-4.0.9/lib/airline-0.8.jar:/content/apache-cassandra-4.0.9/lib/antlr-runtime-3.5.2.jar:/content/apache-cassandra-4.0.9/lib/apache-cassandra-4.0.9.jar:/content/apache-cassandra-4.0.9/lib/asm-7.1.jar:/content/apache-cassandra-4.0.9/lib/caffeine-2.5.6.jar:/content/apache-cassandra-4.0.9/lib/cassandra-driver-core-3.11.0-shaded.jar:/content/apache-cassandra-4.0.9/lib/chronicle-bytes-2.20.111.jar:/content/apache-cassandra-4.0.9/lib/chronicle-core-2.20.126.jar:/content/apache-cassandra-4.0.9/lib/chronicle-queue-5.20.123.jar:/content/apache-cassandra-4.0.9/lib/chronicle-threads-2.20.111.jar:/content/apache-cassandra-4.0.9/lib/chronicle-wire-2.20.117.jar:/content/apache-cassandra-4.0.9/lib/commons-cli-1.1.jar:/content/apache-cassandra-4.0.9/lib/commons-codec-1.9.jar:/content/apache-cassandra-4.0.9/lib/commons-lang3-3.11.jar:/content/apache-cassandra-4.0.9/lib/commons-math3-3.2.jar:/content/apache-cassandra-4.0.9/lib/concurrent-trees-2.4.0.jar:/content/apache-cassandra-4.0.9/lib/ecj-4.6.1.jar:/content/apache-cassandra-4.0.9/lib/guava-27.0-jre.jar:/content/apache-cassandra-4.0.9/lib/high-scale-lib-1.0.6.jar:/content/apache-cassandra-4.0.9/lib/hppc-0.8.1.jar:/content/apache-cassandra-4.0.9/lib/j2objc-annotations-1.3.jar:/content/apache-cassandra-4.0.9/lib/jackson-annotations-2.13.2.jar:/content/apache-cassandra-4.0.9/lib/jackson-core-2.13.2.jar:/content/apache-cassandra-4.0.9/lib/jackson-databind-2.13.2.2.jar:/content/apache-cassandra-4.0.9/lib/jamm-0.3.2.jar:/content/apache-cassandra-4.0.9/lib/java-cup-runtime-11b-20160615.jar:/content/apache-cassandra-4.0.9/lib/javax.inject-1.jar:/content/apache-cassandra-4.0.9/lib/jbcrypt-0.4.jar:/content/apache-cassandra-4.0.9/lib/jcl-over-slf4j-1.7.25.jar:/content/apache-cassandra-4.0.9/lib/jcommander-1.30.jar:/content/apache-cassandra-4.0.9/lib/jctools-core-3.1.0.jar:/content/apache-cassandra-4.0.9/lib/jflex-1.8.2.jar:/content/apache-cassandra-4.0.9/lib/jna-5.6.0.jar:/content/apache-cassandra-4.0.9/lib/json-simple-1.1.jar:/content/apache-cassandra-4.0.9/lib/jvm-attach-api-1.5.jar:/content/apache-cassandra-4.0.9/lib/log4j-over-slf4j-1.7.25.jar:/content/apache-cassandra-4.0.9/lib/logback-classic-1.2.9.jar:/content/apache-cassandra-4.0.9/lib/logback-core-1.2.9.jar:/content/apache-cassandra-4.0.9/lib/lz4-java-1.8.0.jar:/content/apache-cassandra-4.0.9/lib/metrics-core-3.1.5.jar:/content/apache-cassandra-4.0.9/lib/metrics-jvm-3.1.5.jar:/content/apache-cassandra-4.0.9/lib/metrics-logback-3.1.5.jar:/content/apache-cassandra-4.0.9/lib/mxdump-0.14.jar:/content/apache-cassandra-4.0.9/lib/netty-all-4.1.58.Final.jar:/content/apache-cassandra-4.0.9/lib/netty-tcnative-boringssl-static-2.0.36.Final.jar:/content/apache-cassandra-4.0.9/lib/ohc-core-0.5.1.jar:/content/apache-cassandra-4.0.9/lib/ohc-core-j8-0.5.1.jar:/content/apache-cassandra-4.0.9/lib/psjava-0.1.19.jar:/content/apache-cassandra-4.0.9/lib/reporter-config-base-3.0.3.jar:/content/apache-cassandra-4.0.9/lib/reporter-config3-3.0.3.jar:/content/apache-cassandra-4.0.9/lib/sigar-1.6.4.jar:/content/apache-cassandra-4.0.9/lib/sjk-cli-0.14.jar:/content/apache-cassandra-4.0.9/lib/sjk-core-0.14.jar:/content/apache-cassandra-4.0.9/lib/sjk-json-0.14.jar:/content/apache-cassandra-4.0.9/lib/sjk-stacktrace-0.14.jar:/content/apache-cassandra-4.0.9/lib/slf4j-api-1.7.25.jar:/content/apache-cassandra-4.0.9/lib/snakeyaml-1.26.jar:/content/apache-cassandra-4.0.9/lib/snappy-java-1.1.2.6.jar:/content/apache-cassandra-4.0.9/lib/snowball-stemmer-1.3.0.581.1.jar:/content/apache-cassandra-4.0.9/lib/stream-2.5.2.jar:/content/apache-cassandra-4.0.9/lib/zstd-jni-1.5.5-1.jar:/content/apache-cassandra-4.0.9/lib/jsr223/*/*.jar::/content/apache-cassandra-4.0.9/lib/jamm-0.3.2.jar\n",
            "INFO  [main] 2023-06-05 12:43:38,227 CassandraDaemon.java:642 - JVM Arguments: [-ea, -da:net.openhft..., -XX:+UseThreadPriorities, -XX:+HeapDumpOnOutOfMemoryError, -Xss256k, -XX:+AlwaysPreTouch, -XX:-UseBiasedLocking, -XX:+UseTLAB, -XX:+ResizeTLAB, -XX:+UseNUMA, -XX:+PerfDisableSharedMem, -Djava.net.preferIPv4Stack=true, -XX:ThreadPriorityPolicy=42, -XX:+UseParNewGC, -XX:+UseConcMarkSweepGC, -XX:+CMSParallelRemarkEnabled, -XX:SurvivorRatio=8, -XX:MaxTenuringThreshold=1, -XX:CMSInitiatingOccupancyFraction=75, -XX:+UseCMSInitiatingOccupancyOnly, -XX:CMSWaitDuration=10000, -XX:+CMSParallelInitialMarkEnabled, -XX:+CMSEdenChunksRecordAlways, -XX:+CMSClassUnloadingEnabled, -XX:+PrintGCDetails, -XX:+PrintGCDateStamps, -XX:+PrintHeapAtGC, -XX:+PrintTenuringDistribution, -XX:+PrintGCApplicationStoppedTime, -XX:+PrintPromotionFailure, -XX:+UseGCLogFileRotation, -XX:NumberOfGCLogFiles=10, -XX:GCLogFileSize=10M, -Xloggc:/content/apache-cassandra-4.0.9/logs/gc.log, -Xms3245M, -Xmx3245M, -Xmn200M, -XX:+UseCondCardMark, -XX:CompileCommandFile=/content/apache-cassandra-4.0.9/conf/hotspot_compiler, -javaagent:/content/apache-cassandra-4.0.9/lib/jamm-0.3.2.jar, -Dcassandra.jmx.local.port=7199, -Dcom.sun.management.jmxremote.authenticate=false, -Dcom.sun.management.jmxremote.password.file=/etc/cassandra/jmxremote.password, -Djava.library.path=/content/apache-cassandra-4.0.9/lib/sigar-bin, -XX:OnOutOfMemoryError=kill -9 %p, -Dlogback.configurationFile=logback.xml, -Dcassandra.logdir=/content/apache-cassandra-4.0.9/logs, -Dcassandra.storagedir=/content/apache-cassandra-4.0.9/data]\n",
            "WARN  [main] 2023-06-05 12:43:38,427 NativeLibrary.java:201 - Unable to lock JVM memory (ENOMEM). This can result in part of the JVM being swapped out, especially with mmapped I/O enabled. Increase RLIMIT_MEMLOCK.\n",
            "INFO  [main] 2023-06-05 12:43:38,537 MonotonicClock.java:202 - Scheduling approximate time conversion task with an interval of 10000 milliseconds\n",
            "INFO  [main] 2023-06-05 12:43:38,539 MonotonicClock.java:338 - Scheduling approximate time-check task with a precision of 2 milliseconds\n",
            "WARN  [main] 2023-06-05 12:43:38,541 StartupChecks.java:143 - jemalloc shared library could not be preloaded to speed up memory allocations\n",
            "WARN  [main] 2023-06-05 12:43:38,542 StartupChecks.java:187 - JMX is not enabled to receive remote connections. Please see cassandra-env.sh for more info.\n",
            "INFO  [main] 2023-06-05 12:43:38,547 SigarLibrary.java:44 - Initializing SIGAR library\n",
            "INFO  [main] 2023-06-05 12:43:38,576 SigarLibrary.java:180 - Checked OS settings and found them configured for optimal performance.\n",
            "WARN  [main] 2023-06-05 12:43:38,578 StartupChecks.java:329 - Maximum number of memory map areas per process (vm.max_map_count) 65530 is too low, recommended value: 1048575, you can change it with sysctl.\n",
            "INFO  [main] 2023-06-05 12:43:40,148 Keyspace.java:386 - Creating replication strategy system params KeyspaceParams{durable_writes=true, replication=ReplicationParams{class=org.apache.cassandra.locator.LocalStrategy}}\n",
            "INFO  [main] 2023-06-05 12:43:40,323 ColumnFamilyStore.java:385 - Initializing system.IndexInfo\n",
            "INFO  [main] 2023-06-05 12:43:42,262 ColumnFamilyStore.java:385 - Initializing system.batches\n",
            "INFO  [main] 2023-06-05 12:43:42,288 ColumnFamilyStore.java:385 - Initializing system.paxos\n",
            "INFO  [main] 2023-06-05 12:43:42,311 ColumnFamilyStore.java:385 - Initializing system.local\n",
            "INFO  [main] 2023-06-05 12:43:42,341 ColumnFamilyStore.java:385 - Initializing system.peers_v2\n",
            "INFO  [main] 2023-06-05 12:43:42,371 ColumnFamilyStore.java:385 - Initializing system.peers\n",
            "INFO  [main] 2023-06-05 12:43:42,390 ColumnFamilyStore.java:385 - Initializing system.peer_events_v2\n",
            "INFO  [main] 2023-06-05 12:43:42,410 ColumnFamilyStore.java:385 - Initializing system.peer_events\n",
            "INFO  [main] 2023-06-05 12:43:42,437 ColumnFamilyStore.java:385 - Initializing system.compaction_history\n",
            "INFO  [main] 2023-06-05 12:43:42,456 ColumnFamilyStore.java:385 - Initializing system.sstable_activity\n",
            "INFO  [main] 2023-06-05 12:43:42,474 ColumnFamilyStore.java:385 - Initializing system.size_estimates\n",
            "INFO  [main] 2023-06-05 12:43:42,489 ColumnFamilyStore.java:385 - Initializing system.table_estimates\n",
            "INFO  [main] 2023-06-05 12:43:42,502 ColumnFamilyStore.java:385 - Initializing system.available_ranges_v2\n",
            "INFO  [main] 2023-06-05 12:43:42,517 ColumnFamilyStore.java:385 - Initializing system.available_ranges\n",
            "INFO  [main] 2023-06-05 12:43:42,537 ColumnFamilyStore.java:385 - Initializing system.transferred_ranges_v2\n",
            "INFO  [main] 2023-06-05 12:43:42,557 ColumnFamilyStore.java:385 - Initializing system.transferred_ranges\n",
            "INFO  [main] 2023-06-05 12:43:42,582 ColumnFamilyStore.java:385 - Initializing system.view_builds_in_progress\n",
            "INFO  [main] 2023-06-05 12:43:42,599 ColumnFamilyStore.java:385 - Initializing system.built_views\n",
            "INFO  [main] 2023-06-05 12:43:42,616 ColumnFamilyStore.java:385 - Initializing system.prepared_statements\n",
            "INFO  [main] 2023-06-05 12:43:42,639 ColumnFamilyStore.java:385 - Initializing system.repairs\n",
            "INFO  [main] 2023-06-05 12:43:43,271 QueryProcessor.java:115 - Initialized prepared statement caches with 12 MB\n",
            "INFO  [main] 2023-06-05 12:43:43,614 Keyspace.java:386 - Creating replication strategy system_schema params KeyspaceParams{durable_writes=true, replication=ReplicationParams{class=org.apache.cassandra.locator.LocalStrategy}}\n",
            "INFO  [main] 2023-06-05 12:43:43,627 ColumnFamilyStore.java:385 - Initializing system_schema.keyspaces\n",
            "INFO  [main] 2023-06-05 12:43:43,639 ColumnFamilyStore.java:385 - Initializing system_schema.tables\n",
            "INFO  [main] 2023-06-05 12:43:43,651 ColumnFamilyStore.java:385 - Initializing system_schema.columns\n",
            "INFO  [main] 2023-06-05 12:43:43,669 ColumnFamilyStore.java:385 - Initializing system_schema.triggers\n",
            "INFO  [main] 2023-06-05 12:43:43,678 ColumnFamilyStore.java:385 - Initializing system_schema.dropped_columns\n",
            "INFO  [main] 2023-06-05 12:43:43,687 ColumnFamilyStore.java:385 - Initializing system_schema.views\n",
            "INFO  [main] 2023-06-05 12:43:43,697 ColumnFamilyStore.java:385 - Initializing system_schema.types\n",
            "INFO  [main] 2023-06-05 12:43:43,707 ColumnFamilyStore.java:385 - Initializing system_schema.functions\n",
            "INFO  [main] 2023-06-05 12:43:43,720 ColumnFamilyStore.java:385 - Initializing system_schema.aggregates\n",
            "INFO  [main] 2023-06-05 12:43:43,728 ColumnFamilyStore.java:385 - Initializing system_schema.indexes\n",
            "WARN  [main] 2023-06-05 12:43:43,851 SystemKeyspace.java:1189 - No host ID found, created 9931a899-99c7-4d77-a447-cbaec0fa1996 (Note: This should happen exactly once per node).\n",
            "INFO  [main] 2023-06-05 12:43:43,856 ColumnFamilyStore.java:878 - Enqueuing flush of local: 1.746KiB (0%) on-heap, 0.000KiB (0%) off-heap\n",
            "INFO  [PerDiskMemtableFlushWriter_0:1] 2023-06-05 12:43:43,996 Memtable.java:499 - Writing Memtable-local@1170905252(0.366KiB serialized bytes, 2 ops, 0%/0% of on/off-heap limit), flushed range = (null, null]\n",
            "INFO  [PerDiskMemtableFlushWriter_0:1] 2023-06-05 12:43:44,002 Memtable.java:528 - Completed flushing /content/apache-cassandra-4.0.9/data/data/system/local-7ad54392bcdd35a684174e047860b377/nb-1-big-Data.db (0.182KiB) for commitlog position CommitLogPosition(segmentId=1685969018525, position=465)\n",
            "INFO  [MemtableFlushWriter:1] 2023-06-05 12:43:44,128 LogTransaction.java:242 - Unfinished transaction log, deleting /content/apache-cassandra-4.0.9/data/data/system/local-7ad54392bcdd35a684174e047860b377/nb_txn_flush_9b3434b0-039e-11ee-af03-696fe48e7e88.log \n",
            "INFO  [MemtableFlushWriter:1] 2023-06-05 12:43:44,147 CacheService.java:103 - Initializing key cache with capacity of 100 MBs.\n",
            "INFO  [MemtableFlushWriter:1] 2023-06-05 12:43:44,161 CacheService.java:125 - Initializing row cache with capacity of 0 MBs\n",
            "INFO  [MemtableFlushWriter:1] 2023-06-05 12:43:44,163 CacheService.java:154 - Initializing counter cache with capacity of 50 MBs\n",
            "INFO  [MemtableFlushWriter:1] 2023-06-05 12:43:44,165 CacheService.java:165 - Scheduling counter cache save to every 7200 seconds (going to save all keys).\n",
            "INFO  [main] 2023-06-05 12:43:44,206 SystemKeyspaceMigrator40.java:76 - system.peers_v2 table was empty, migrating legacy system.peers, if this fails you should fix the issue and then truncate system.peers_v2 to have it try again.\n",
            "INFO  [main] 2023-06-05 12:43:44,218 SystemKeyspaceMigrator40.java:100 - Migrating rows from legacy system.peers to system.peers_v2\n",
            "INFO  [main] 2023-06-05 12:43:44,225 SystemKeyspaceMigrator40.java:119 - Migrated 0 rows from legacy system.peers to system.peers_v2\n",
            "INFO  [main] 2023-06-05 12:43:44,225 SystemKeyspaceMigrator40.java:129 - system.peer_events_v2 table was empty, migrating legacy system.peer_events to system.peer_events_v2\n",
            "INFO  [main] 2023-06-05 12:43:44,228 SystemKeyspaceMigrator40.java:152 - Migrated 0 rows from legacy system.peer_events to system.peer_events_v2\n",
            "INFO  [main] 2023-06-05 12:43:44,228 SystemKeyspaceMigrator40.java:162 - system.transferred_ranges_v2 table was empty, migrating legacy system.transferred_ranges to system.transferred_ranges_v2\n",
            "INFO  [main] 2023-06-05 12:43:44,231 SystemKeyspaceMigrator40.java:190 - Migrated 0 rows from legacy system.transferred_ranges to system.transferred_ranges_v2\n",
            "INFO  [main] 2023-06-05 12:43:44,231 SystemKeyspaceMigrator40.java:200 - system.available_ranges_v2 table was empty, migrating legacy system.available_ranges to system.available_ranges_v2\n",
            "INFO  [main] 2023-06-05 12:43:44,235 SystemKeyspaceMigrator40.java:226 - Migrated 0 rows from legacy system.available_ranges to system.available_ranges_v2\n",
            "INFO  [main] 2023-06-05 12:43:44,235 StorageService.java:926 - Populating token metadata from system tables\n",
            "INFO  [main] 2023-06-05 12:43:44,273 BufferPools.java:49 - Global buffer pool limit is 512.000MiB for chunk-cache and 128.000MiB for networking\n",
            "INFO  [main] 2023-06-05 12:43:44,350 StorageService.java:920 - Token metadata: \n",
            "INFO  [pool-3-thread-1] 2023-06-05 12:43:44,418 AutoSavingCache.java:177 - Completed loading (10 ms; 1 keys) KeyCache cache\n",
            "INFO  [main] 2023-06-05 12:43:44,440 CommitLog.java:196 - No commitlog files found; skipping replay\n",
            "INFO  [main] 2023-06-05 12:43:44,441 StorageService.java:926 - Populating token metadata from system tables\n",
            "INFO  [main] 2023-06-05 12:43:44,466 StorageService.java:920 - Token metadata: \n",
            "INFO  [main] 2023-06-05 12:43:44,685 ColumnFamilyStore.java:2252 - Truncating system.size_estimates\n",
            "INFO  [main] 2023-06-05 12:43:44,697 ColumnFamilyStore.java:2289 - Truncating system.size_estimates with truncatedAt=1685969024695\n",
            "INFO  [main] 2023-06-05 12:43:44,713 ColumnFamilyStore.java:878 - Enqueuing flush of local: 0.709KiB (0%) on-heap, 0.000KiB (0%) off-heap\n",
            "INFO  [PerDiskMemtableFlushWriter_0:2] 2023-06-05 12:43:44,747 Memtable.java:499 - Writing Memtable-local@526590261(0.122KiB serialized bytes, 2 ops, 0%/0% of on/off-heap limit), flushed range = (null, null]\n",
            "INFO  [PerDiskMemtableFlushWriter_0:2] 2023-06-05 12:43:44,748 Memtable.java:528 - Completed flushing /content/apache-cassandra-4.0.9/data/data/system/local-7ad54392bcdd35a684174e047860b377/nb-2-big-Data.db (0.082KiB) for commitlog position CommitLogPosition(segmentId=1685969018525, position=31274)\n",
            "INFO  [MemtableFlushWriter:1] 2023-06-05 12:43:44,819 LogTransaction.java:242 - Unfinished transaction log, deleting /content/apache-cassandra-4.0.9/data/data/system/local-7ad54392bcdd35a684174e047860b377/nb_txn_flush_9bb5c0c0-039e-11ee-af03-696fe48e7e88.log \n",
            "INFO  [main] 2023-06-05 12:43:44,827 ColumnFamilyStore.java:2316 - Truncate of system.size_estimates is complete\n",
            "INFO  [main] 2023-06-05 12:43:44,828 ColumnFamilyStore.java:2252 - Truncating system.table_estimates\n",
            "INFO  [main] 2023-06-05 12:43:44,830 ColumnFamilyStore.java:2289 - Truncating system.table_estimates with truncatedAt=1685969024829\n",
            "INFO  [main] 2023-06-05 12:43:44,832 ColumnFamilyStore.java:878 - Enqueuing flush of local: 0.576KiB (0%) on-heap, 0.000KiB (0%) off-heap\n",
            "INFO  [PerDiskMemtableFlushWriter_0:1] 2023-06-05 12:43:44,860 Memtable.java:499 - Writing Memtable-local@2013273853(0.091KiB serialized bytes, 1 ops, 0%/0% of on/off-heap limit), flushed range = (null, null]\n",
            "INFO  [PerDiskMemtableFlushWriter_0:1] 2023-06-05 12:43:44,861 Memtable.java:528 - Completed flushing /content/apache-cassandra-4.0.9/data/data/system/local-7ad54392bcdd35a684174e047860b377/nb-3-big-Data.db (0.063KiB) for commitlog position CommitLogPosition(segmentId=1685969018525, position=31385)\n",
            "INFO  [MemtableFlushWriter:1] 2023-06-05 12:43:44,918 LogTransaction.java:242 - Unfinished transaction log, deleting /content/apache-cassandra-4.0.9/data/data/system/local-7ad54392bcdd35a684174e047860b377/nb_txn_flush_9bc7c220-039e-11ee-af03-696fe48e7e88.log \n",
            "INFO  [main] 2023-06-05 12:43:44,925 ColumnFamilyStore.java:2316 - Truncate of system.table_estimates is complete\n",
            "INFO  [main] 2023-06-05 12:43:44,931 QueryProcessor.java:167 - Preloaded 0 prepared statements\n",
            "INFO  [main] 2023-06-05 12:43:44,933 StorageService.java:824 - Cassandra version: 4.0.9\n",
            "INFO  [main] 2023-06-05 12:43:44,934 StorageService.java:825 - CQL version: 3.4.5\n",
            "INFO  [main] 2023-06-05 12:43:44,935 StorageService.java:826 - Native protocol supported versions: 3/v3, 4/v4, 5/v5, 6/v6-beta (default: 5/v5)\n",
            "INFO  [main] 2023-06-05 12:43:44,982 IndexSummaryManager.java:83 - Initializing index summary manager with a memory pool size of 161 MB and a resize interval of 60 minutes\n",
            "INFO  [main] 2023-06-05 12:43:44,983 StorageService.java:843 - Loading persisted ring state\n",
            "INFO  [main] 2023-06-05 12:43:44,983 StorageService.java:926 - Populating token metadata from system tables\n",
            "INFO  [main] 2023-06-05 12:43:45,168 InboundConnectionInitiator.java:127 - Listening on address: (localhost/127.0.0.1:7000), nic: lo, encryption: unencrypted\n",
            "INFO  [main] 2023-06-05 12:43:45,276 StorageService.java:741 - Unable to gossip with any peers but continuing anyway since node is in its own seed list\n",
            "INFO  [main] 2023-06-05 12:43:45,303 StorageService.java:1048 - Starting up server gossip\n",
            "INFO  [main] 2023-06-05 12:43:45,308 ColumnFamilyStore.java:878 - Enqueuing flush of local: 0.459KiB (0%) on-heap, 0.000KiB (0%) off-heap\n",
            "INFO  [PerDiskMemtableFlushWriter_0:2] 2023-06-05 12:43:45,332 Memtable.java:499 - Writing Memtable-local@296017065(0.048KiB serialized bytes, 1 ops, 0%/0% of on/off-heap limit), flushed range = (null, null]\n",
            "INFO  [PerDiskMemtableFlushWriter_0:2] 2023-06-05 12:43:45,334 Memtable.java:528 - Completed flushing /content/apache-cassandra-4.0.9/data/data/system/local-7ad54392bcdd35a684174e047860b377/nb-4-big-Data.db (0.028KiB) for commitlog position CommitLogPosition(segmentId=1685969018525, position=31466)\n",
            "INFO  [MemtableFlushWriter:2] 2023-06-05 12:43:45,386 LogTransaction.java:242 - Unfinished transaction log, deleting /content/apache-cassandra-4.0.9/data/data/system/local-7ad54392bcdd35a684174e047860b377/nb_txn_flush_9c1063e0-039e-11ee-af03-696fe48e7e88.log \n",
            "INFO  [main] 2023-06-05 12:43:45,471 StorageService.java:1138 - This node will not auto bootstrap because it is configured to be a seed node.\n",
            "INFO  [main] 2023-06-05 12:44:15,500 NetworkTopologyStrategy.java:89 - Configured datacenter replicas are datacenter1:rf(3)\n",
            "INFO  [main] 2023-06-05 12:44:15,502 TokenAllocatorFactory.java:44 - Using ReplicationAwareTokenAllocator.\n",
            "INFO  [main] 2023-06-05 12:44:15,550 TokenAllocation.java:106 - Selected tokens [-5357025914289352233, 5851381594438730683, 1041031635196831249, -8248070295673427071, -1556137113016326123, 3915707836255356666, 8363150440681346734, -3146141665530224761, -6436398721736953890, 2819665936020418377, 62886182680717173, 7291649824341313921, -4113505908608760259, 5007004946947568925, -9065742228285777866, -7172314414447847531]\n",
            "INFO  [MigrationStage:1] 2023-06-05 12:44:15,596 ColumnFamilyStore.java:878 - Enqueuing flush of columns: 200.126KiB (0%) on-heap, 0.000KiB (0%) off-heap\n",
            "INFO  [PerDiskMemtableFlushWriter_0:1] 2023-06-05 12:44:15,623 Memtable.java:499 - Writing Memtable-columns@1850836407(41.994KiB serialized bytes, 277 ops, 0%/0% of on/off-heap limit), flushed range = (null, null]\n",
            "INFO  [PerDiskMemtableFlushWriter_0:1] 2023-06-05 12:44:15,647 Memtable.java:528 - Completed flushing /content/apache-cassandra-4.0.9/data/data/system_schema/columns-24101c25a2ae3af787c1b40ee1aca33f/nb-1-big-Data.db (20.847KiB) for commitlog position CommitLogPosition(segmentId=1685969018525, position=42092)\n",
            "INFO  [MemtableFlushWriter:1] 2023-06-05 12:44:15,708 LogTransaction.java:242 - Unfinished transaction log, deleting /content/apache-cassandra-4.0.9/data/data/system_schema/columns-24101c25a2ae3af787c1b40ee1aca33f/nb_txn_flush_ae1df8e0-039e-11ee-af03-696fe48e7e88.log \n",
            "INFO  [MigrationStage:1] 2023-06-05 12:44:15,715 ColumnFamilyStore.java:878 - Enqueuing flush of dropped_columns: 1.081KiB (0%) on-heap, 0.000KiB (0%) off-heap\n",
            "INFO  [PerDiskMemtableFlushWriter_0:2] 2023-06-05 12:44:15,737 Memtable.java:499 - Writing Memtable-dropped_columns@362498629(0.120KiB serialized bytes, 3 ops, 0%/0% of on/off-heap limit), flushed range = (null, null]\n",
            "INFO  [PerDiskMemtableFlushWriter_0:2] 2023-06-05 12:44:15,739 Memtable.java:528 - Completed flushing /content/apache-cassandra-4.0.9/data/data/system_schema/dropped_columns-5e7583b5f3f43af19a39b7e1d6f5f11f/nb-1-big-Data.db (0.097KiB) for commitlog position CommitLogPosition(segmentId=1685969018525, position=42100)\n",
            "INFO  [MemtableFlushWriter:2] 2023-06-05 12:44:15,795 LogTransaction.java:242 - Unfinished transaction log, deleting /content/apache-cassandra-4.0.9/data/data/system_schema/dropped_columns-5e7583b5f3f43af19a39b7e1d6f5f11f/nb_txn_flush_ae2ffa40-039e-11ee-af03-696fe48e7e88.log \n",
            "INFO  [MigrationStage:1] 2023-06-05 12:44:15,803 ColumnFamilyStore.java:878 - Enqueuing flush of triggers: 0.513KiB (0%) on-heap, 0.000KiB (0%) off-heap\n",
            "INFO  [PerDiskMemtableFlushWriter_0:1] 2023-06-05 12:44:15,830 Memtable.java:499 - Writing Memtable-triggers@153987363(0.016KiB serialized bytes, 2 ops, 0%/0% of on/off-heap limit), flushed range = (null, null]\n",
            "INFO  [PerDiskMemtableFlushWriter_0:1] 2023-06-05 12:44:15,831 Memtable.java:528 - Completed flushing /content/apache-cassandra-4.0.9/data/data/system_schema/triggers-4df70b666b05325195a132b54005fd48/nb-1-big-Data.db (0.048KiB) for commitlog position CommitLogPosition(segmentId=1685969018525, position=42100)\n",
            "INFO  [MemtableFlushWriter:1] 2023-06-05 12:44:15,885 LogTransaction.java:242 - Unfinished transaction log, deleting /content/apache-cassandra-4.0.9/data/data/system_schema/triggers-4df70b666b05325195a132b54005fd48/nb_txn_flush_ae3d67c0-039e-11ee-af03-696fe48e7e88.log \n",
            "INFO  [MigrationStage:1] 2023-06-05 12:44:15,895 ColumnFamilyStore.java:878 - Enqueuing flush of types: 0.513KiB (0%) on-heap, 0.000KiB (0%) off-heap\n",
            "INFO  [PerDiskMemtableFlushWriter_0:2] 2023-06-05 12:44:15,923 Memtable.java:499 - Writing Memtable-types@1352259218(0.016KiB serialized bytes, 2 ops, 0%/0% of on/off-heap limit), flushed range = (null, null]\n",
            "INFO  [PerDiskMemtableFlushWriter_0:2] 2023-06-05 12:44:15,924 Memtable.java:528 - Completed flushing /content/apache-cassandra-4.0.9/data/data/system_schema/types-5a8b1ca866023f77a0459273d308917a/nb-1-big-Data.db (0.048KiB) for commitlog position CommitLogPosition(segmentId=1685969018525, position=42100)\n",
            "INFO  [MemtableFlushWriter:2] 2023-06-05 12:44:15,984 LogTransaction.java:242 - Unfinished transaction log, deleting /content/apache-cassandra-4.0.9/data/data/system_schema/types-5a8b1ca866023f77a0459273d308917a/nb_txn_flush_ae4b9890-039e-11ee-af03-696fe48e7e88.log \n",
            "INFO  [MigrationStage:1] 2023-06-05 12:44:15,993 ColumnFamilyStore.java:878 - Enqueuing flush of functions: 0.513KiB (0%) on-heap, 0.000KiB (0%) off-heap\n",
            "INFO  [PerDiskMemtableFlushWriter_0:1] 2023-06-05 12:44:16,030 Memtable.java:499 - Writing Memtable-functions@1616057371(0.016KiB serialized bytes, 2 ops, 0%/0% of on/off-heap limit), flushed range = (null, null]\n",
            "INFO  [PerDiskMemtableFlushWriter_0:1] 2023-06-05 12:44:16,031 Memtable.java:528 - Completed flushing /content/apache-cassandra-4.0.9/data/data/system_schema/functions-96489b7980be3e14a70166a0b9159450/nb-1-big-Data.db (0.048KiB) for commitlog position CommitLogPosition(segmentId=1685969018525, position=42100)\n",
            "INFO  [MemtableFlushWriter:1] 2023-06-05 12:44:16,089 LogTransaction.java:242 - Unfinished transaction log, deleting /content/apache-cassandra-4.0.9/data/data/system_schema/functions-96489b7980be3e14a70166a0b9159450/nb_txn_flush_ae5a65a0-039e-11ee-af03-696fe48e7e88.log \n",
            "INFO  [MigrationStage:1] 2023-06-05 12:44:16,098 ColumnFamilyStore.java:878 - Enqueuing flush of aggregates: 0.513KiB (0%) on-heap, 0.000KiB (0%) off-heap\n",
            "INFO  [PerDiskMemtableFlushWriter_0:2] 2023-06-05 12:44:16,120 Memtable.java:499 - Writing Memtable-aggregates@1458908989(0.016KiB serialized bytes, 2 ops, 0%/0% of on/off-heap limit), flushed range = (null, null]\n",
            "INFO  [PerDiskMemtableFlushWriter_0:2] 2023-06-05 12:44:16,121 Memtable.java:528 - Completed flushing /content/apache-cassandra-4.0.9/data/data/system_schema/aggregates-924c55872e3a345bb10c12f37c1ba895/nb-1-big-Data.db (0.048KiB) for commitlog position CommitLogPosition(segmentId=1685969018525, position=42100)\n",
            "INFO  [MemtableFlushWriter:2] 2023-06-05 12:44:16,179 LogTransaction.java:242 - Unfinished transaction log, deleting /content/apache-cassandra-4.0.9/data/data/system_schema/aggregates-924c55872e3a345bb10c12f37c1ba895/nb_txn_flush_ae6a4420-039e-11ee-af03-696fe48e7e88.log \n",
            "INFO  [MigrationStage:1] 2023-06-05 12:44:16,188 ColumnFamilyStore.java:878 - Enqueuing flush of indexes: 0.513KiB (0%) on-heap, 0.000KiB (0%) off-heap\n",
            "INFO  [PerDiskMemtableFlushWriter_0:1] 2023-06-05 12:44:16,212 Memtable.java:499 - Writing Memtable-indexes@417077530(0.016KiB serialized bytes, 2 ops, 0%/0% of on/off-heap limit), flushed range = (null, null]\n",
            "INFO  [PerDiskMemtableFlushWriter_0:1] 2023-06-05 12:44:16,213 Memtable.java:528 - Completed flushing /content/apache-cassandra-4.0.9/data/data/system_schema/indexes-0feb57ac311f382fba6d9024d305702f/nb-1-big-Data.db (0.048KiB) for commitlog position CommitLogPosition(segmentId=1685969018525, position=42100)\n",
            "INFO  [MemtableFlushWriter:1] 2023-06-05 12:44:16,273 LogTransaction.java:242 - Unfinished transaction log, deleting /content/apache-cassandra-4.0.9/data/data/system_schema/indexes-0feb57ac311f382fba6d9024d305702f/nb_txn_flush_ae7826d0-039e-11ee-af03-696fe48e7e88.log \n",
            "INFO  [MigrationStage:1] 2023-06-05 12:44:16,281 ColumnFamilyStore.java:878 - Enqueuing flush of tables: 92.661KiB (0%) on-heap, 0.000KiB (0%) off-heap\n",
            "INFO  [PerDiskMemtableFlushWriter_0:2] 2023-06-05 12:44:16,305 Memtable.java:499 - Writing Memtable-tables@1627644126(28.858KiB serialized bytes, 42 ops, 0%/0% of on/off-heap limit), flushed range = (null, null]\n",
            "INFO  [PerDiskMemtableFlushWriter_0:2] 2023-06-05 12:44:16,308 Memtable.java:528 - Completed flushing /content/apache-cassandra-4.0.9/data/data/system_schema/tables-afddfb9dbc1e30688056eed6c302ba09/nb-1-big-Data.db (17.879KiB) for commitlog position CommitLogPosition(segmentId=1685969018525, position=42100)\n",
            "INFO  [MemtableFlushWriter:2] 2023-06-05 12:44:16,360 LogTransaction.java:242 - Unfinished transaction log, deleting /content/apache-cassandra-4.0.9/data/data/system_schema/tables-afddfb9dbc1e30688056eed6c302ba09/nb_txn_flush_ae8657a0-039e-11ee-af03-696fe48e7e88.log \n",
            "INFO  [MigrationStage:1] 2023-06-05 12:44:16,367 ColumnFamilyStore.java:878 - Enqueuing flush of views: 0.513KiB (0%) on-heap, 0.000KiB (0%) off-heap\n",
            "INFO  [PerDiskMemtableFlushWriter_0:1] 2023-06-05 12:44:16,395 Memtable.java:499 - Writing Memtable-views@2059557771(0.016KiB serialized bytes, 2 ops, 0%/0% of on/off-heap limit), flushed range = (null, null]\n",
            "INFO  [PerDiskMemtableFlushWriter_0:1] 2023-06-05 12:44:16,396 Memtable.java:528 - Completed flushing /content/apache-cassandra-4.0.9/data/data/system_schema/views-9786ac1cdd583201a7cdad556410c985/nb-1-big-Data.db (0.048KiB) for commitlog position CommitLogPosition(segmentId=1685969018525, position=42100)\n",
            "INFO  [MemtableFlushWriter:1] 2023-06-05 12:44:16,456 LogTransaction.java:242 - Unfinished transaction log, deleting /content/apache-cassandra-4.0.9/data/data/system_schema/views-9786ac1cdd583201a7cdad556410c985/nb_txn_flush_ae93c520-039e-11ee-af03-696fe48e7e88.log \n",
            "INFO  [MigrationStage:1] 2023-06-05 12:44:16,464 ColumnFamilyStore.java:878 - Enqueuing flush of keyspaces: 3.248KiB (0%) on-heap, 0.000KiB (0%) off-heap\n",
            "INFO  [PerDiskMemtableFlushWriter_0:2] 2023-06-05 12:44:16,488 Memtable.java:499 - Writing Memtable-keyspaces@780486617(0.673KiB serialized bytes, 7 ops, 0%/0% of on/off-heap limit), flushed range = (null, null]\n",
            "INFO  [PerDiskMemtableFlushWriter_0:2] 2023-06-05 12:44:16,491 Memtable.java:528 - Completed flushing /content/apache-cassandra-4.0.9/data/data/system_schema/keyspaces-abac5682dea631c5b535b3d6cffd0fb6/nb-1-big-Data.db (0.556KiB) for commitlog position CommitLogPosition(segmentId=1685969018525, position=42100)\n",
            "INFO  [MemtableFlushWriter:2] 2023-06-05 12:44:16,554 LogTransaction.java:242 - Unfinished transaction log, deleting /content/apache-cassandra-4.0.9/data/data/system_schema/keyspaces-abac5682dea631c5b535b3d6cffd0fb6/nb_txn_flush_aea24410-039e-11ee-af03-696fe48e7e88.log \n",
            "INFO  [MigrationStage:1] 2023-06-05 12:44:16,744 Keyspace.java:386 - Creating replication strategy system_auth params KeyspaceParams{durable_writes=true, replication=ReplicationParams{class=org.apache.cassandra.locator.SimpleStrategy, replication_factor=1}}\n",
            "INFO  [MigrationStage:1] 2023-06-05 12:44:16,749 ColumnFamilyStore.java:385 - Initializing system_auth.network_permissions\n",
            "INFO  [MigrationStage:1] 2023-06-05 12:44:16,758 ColumnFamilyStore.java:385 - Initializing system_auth.resource_role_permissons_index\n",
            "INFO  [MigrationStage:1] 2023-06-05 12:44:16,766 ColumnFamilyStore.java:385 - Initializing system_auth.role_members\n",
            "INFO  [MigrationStage:1] 2023-06-05 12:44:16,774 ColumnFamilyStore.java:385 - Initializing system_auth.role_permissions\n",
            "INFO  [MigrationStage:1] 2023-06-05 12:44:16,783 ColumnFamilyStore.java:385 - Initializing system_auth.roles\n",
            "INFO  [MigrationStage:1] 2023-06-05 12:44:16,799 Keyspace.java:386 - Creating replication strategy system_distributed params KeyspaceParams{durable_writes=true, replication=ReplicationParams{class=org.apache.cassandra.locator.SimpleStrategy, replication_factor=3}}\n",
            "INFO  [MigrationStage:1] 2023-06-05 12:44:16,803 ColumnFamilyStore.java:385 - Initializing system_distributed.parent_repair_history\n",
            "INFO  [MigrationStage:1] 2023-06-05 12:44:16,820 ColumnFamilyStore.java:385 - Initializing system_distributed.repair_history\n",
            "INFO  [MigrationStage:1] 2023-06-05 12:44:16,829 ColumnFamilyStore.java:385 - Initializing system_distributed.view_build_status\n",
            "INFO  [MigrationStage:1] 2023-06-05 12:44:16,836 Keyspace.java:386 - Creating replication strategy system_traces params KeyspaceParams{durable_writes=true, replication=ReplicationParams{class=org.apache.cassandra.locator.SimpleStrategy, replication_factor=2}}\n",
            "INFO  [MigrationStage:1] 2023-06-05 12:44:16,842 ColumnFamilyStore.java:385 - Initializing system_traces.events\n",
            "INFO  [MigrationStage:1] 2023-06-05 12:44:16,852 ColumnFamilyStore.java:385 - Initializing system_traces.sessions\n",
            "INFO  [main] 2023-06-05 12:44:16,902 StorageService.java:1722 - JOINING: Finish joining ring\n",
            "INFO  [main] 2023-06-05 12:44:16,907 ColumnFamilyStore.java:878 - Enqueuing flush of local: 0.589KiB (0%) on-heap, 0.000KiB (0%) off-heap\n",
            "INFO  [PerDiskMemtableFlushWriter_0:1] 2023-06-05 12:44:16,933 Memtable.java:499 - Writing Memtable-local@516063553(0.084KiB serialized bytes, 3 ops, 0%/0% of on/off-heap limit), flushed range = (null, null]\n",
            "INFO  [PerDiskMemtableFlushWriter_0:1] 2023-06-05 12:44:16,935 Memtable.java:528 - Completed flushing /content/apache-cassandra-4.0.9/data/data/system/local-7ad54392bcdd35a684174e047860b377/nb-5-big-Data.db (0.058KiB) for commitlog position CommitLogPosition(segmentId=1685969018525, position=42256)\n",
            "INFO  [MemtableFlushWriter:1] 2023-06-05 12:44:17,001 LogTransaction.java:242 - Unfinished transaction log, deleting /content/apache-cassandra-4.0.9/data/data/system/local-7ad54392bcdd35a684174e047860b377/nb_txn_flush_aee603d0-039e-11ee-af03-696fe48e7e88.log \n",
            "INFO  [main] 2023-06-05 12:44:17,038 ColumnFamilyStore.java:878 - Enqueuing flush of local: 3.406KiB (0%) on-heap, 0.000KiB (0%) off-heap\n",
            "INFO  [PerDiskMemtableFlushWriter_0:2] 2023-06-05 12:44:17,063 Memtable.java:499 - Writing Memtable-local@817244637(0.593KiB serialized bytes, 1 ops, 0%/0% of on/off-heap limit), flushed range = (null, null]\n",
            "INFO  [PerDiskMemtableFlushWriter_0:2] 2023-06-05 12:44:17,065 Memtable.java:528 - Completed flushing /content/apache-cassandra-4.0.9/data/data/system/local-7ad54392bcdd35a684174e047860b377/nb-6-big-Data.db (0.361KiB) for commitlog position CommitLogPosition(segmentId=1685969018525, position=42669)\n",
            "INFO  [MemtableFlushWriter:2] 2023-06-05 12:44:17,120 LogTransaction.java:242 - Unfinished transaction log, deleting /content/apache-cassandra-4.0.9/data/data/system/local-7ad54392bcdd35a684174e047860b377/nb_txn_flush_aefa0100-039e-11ee-af03-696fe48e7e88.log \n",
            "INFO  [main] 2023-06-05 12:44:17,146 StorageService.java:2903 - Node localhost/127.0.0.1:7000 state jump to NORMAL\n",
            "Waiting for 10 secs until cassandra services are up and running\n"
          ]
        }
      ]
    },
    {
      "cell_type": "code",
      "source": [
        "!pip install cassandra-driver"
      ],
      "metadata": {
        "colab": {
          "base_uri": "https://localhost:8080/"
        },
        "id": "xu1NDF71q4Ez",
        "outputId": "966bc37a-bcb1-4b53-fb1e-9560733c3f13"
      },
      "execution_count": null,
      "outputs": [
        {
          "output_type": "stream",
          "name": "stdout",
          "text": [
            "Looking in indexes: https://pypi.org/simple, https://us-python.pkg.dev/colab-wheels/public/simple/\n",
            "Collecting cassandra-driver\n",
            "  Downloading cassandra_driver-3.27.0-cp310-cp310-manylinux_2_17_x86_64.manylinux2014_x86_64.whl (19.0 MB)\n",
            "\u001b[2K     \u001b[90m━━━━━━━━━━━━━━━━━━━━━━━━━━━━━━━━━━━━━━━━\u001b[0m \u001b[32m19.0/19.0 MB\u001b[0m \u001b[31m44.2 MB/s\u001b[0m eta \u001b[36m0:00:00\u001b[0m\n",
            "\u001b[?25hRequirement already satisfied: six>=1.9 in /usr/local/lib/python3.10/dist-packages (from cassandra-driver) (1.16.0)\n",
            "Collecting geomet<0.3,>=0.1 (from cassandra-driver)\n",
            "  Downloading geomet-0.2.1.post1-py3-none-any.whl (18 kB)\n",
            "Requirement already satisfied: cryptography>=35.0 in /usr/local/lib/python3.10/dist-packages (from cassandra-driver) (40.0.2)\n",
            "Requirement already satisfied: cffi>=1.12 in /usr/local/lib/python3.10/dist-packages (from cryptography>=35.0->cassandra-driver) (1.15.1)\n",
            "Requirement already satisfied: click in /usr/local/lib/python3.10/dist-packages (from geomet<0.3,>=0.1->cassandra-driver) (8.1.3)\n",
            "Requirement already satisfied: pycparser in /usr/local/lib/python3.10/dist-packages (from cffi>=1.12->cryptography>=35.0->cassandra-driver) (2.21)\n",
            "Installing collected packages: geomet, cassandra-driver\n",
            "Successfully installed cassandra-driver-3.27.0 geomet-0.2.1.post1\n"
          ]
        }
      ]
    },
    {
      "cell_type": "code",
      "source": [
        "!pip install -q findspark"
      ],
      "metadata": {
        "id": "fs8G0wUw-tNm"
      },
      "execution_count": null,
      "outputs": []
    },
    {
      "cell_type": "code",
      "source": [
        "import findspark\n",
        "findspark.init()\n",
        "findspark.find()"
      ],
      "metadata": {
        "colab": {
          "base_uri": "https://localhost:8080/",
          "height": 36
        },
        "id": "EBCXagXU-xfC",
        "outputId": "281b2327-e602-4940-bbb2-c57a74a42e12"
      },
      "execution_count": null,
      "outputs": [
        {
          "output_type": "execute_result",
          "data": {
            "text/plain": [
              "'/content/spark-3.3.2-bin-hadoop3'"
            ],
            "application/vnd.google.colaboratory.intrinsic+json": {
              "type": "string"
            }
          },
          "metadata": {},
          "execution_count": 10
        }
      ]
    },
    {
      "cell_type": "code",
      "source": [
        "!pip install pyspark --quiet\n",
        "!pip install -q handyspark"
      ],
      "metadata": {
        "id": "uZ144S6D-0oq",
        "colab": {
          "base_uri": "https://localhost:8080/"
        },
        "outputId": "51a2dc5c-a5f4-4646-cca5-fedf64d35793"
      },
      "execution_count": null,
      "outputs": [
        {
          "output_type": "stream",
          "name": "stdout",
          "text": [
            "\u001b[2K     \u001b[90m━━━━━━━━━━━━━━━━━━━━━━━━━━━━━━━━━━━━━━━\u001b[0m \u001b[32m310.8/310.8 MB\u001b[0m \u001b[31m2.2 MB/s\u001b[0m eta \u001b[36m0:00:00\u001b[0m\n",
            "\u001b[?25h  Preparing metadata (setup.py) ... \u001b[?25l\u001b[?25hdone\n",
            "  Building wheel for pyspark (setup.py) ... \u001b[?25l\u001b[?25hdone\n"
          ]
        }
      ]
    },
    {
      "cell_type": "code",
      "source": [
        "from google.colab import drive\n",
        "drive.mount('/content/drive')"
      ],
      "metadata": {
        "colab": {
          "base_uri": "https://localhost:8080/"
        },
        "id": "o9ISaXPU_Eph",
        "outputId": "3d748cd8-fb34-4762-f9e7-9fb0f8f44ef6"
      },
      "execution_count": null,
      "outputs": [
        {
          "output_type": "stream",
          "name": "stdout",
          "text": [
            "Drive already mounted at /content/drive; to attempt to forcibly remount, call drive.mount(\"/content/drive\", force_remount=True).\n"
          ]
        }
      ]
    },
    {
      "cell_type": "code",
      "source": [
        "from pyspark.sql import SparkSession\n",
        "from pyspark import SparkConf, SparkContext\n",
        "from pyspark.sql import SQLContext\n",
        "from pyspark.context import SparkContext\n",
        "from pyspark.sql.session import SparkSession\n",
        "from pyspark.sql.functions import *\n",
        "from pyspark.sql.functions import col,isnan, when, count\n",
        "\n",
        "spark = SparkSession \\\n",
        "    .builder \\\n",
        "    .appName(\"books_info\") \\\n",
        "    .getOrCreate()\n",
        "\n",
        "book_data2 = spark.read.options(inferSchema='True',header='True',sep=',').csv(\"/content/drive/MyDrive/books_info.csv\")\n",
        "for col in book_data2.columns:\n",
        "  print(col, \"\\t\", \"with null values: \", book_data2.filter(book_data2[col].isNull()).count())\n",
        "book_data2.show()"
      ],
      "metadata": {
        "colab": {
          "base_uri": "https://localhost:8080/"
        },
        "id": "aH3vAon3ck4_",
        "outputId": "09912341-ba04-44dc-dcb2-ad5559522a39"
      },
      "execution_count": null,
      "outputs": [
        {
          "output_type": "stream",
          "name": "stdout",
          "text": [
            "title \t with null values:  0\n",
            "url \t with null values:  7\n",
            "contributors \t with null values:  6433\n",
            "date \t with null values:  161\n",
            "format \t with null values:  54\n",
            "fulltext_url \t with null values:  57\n",
            "trove_id \t with null values:  39\n",
            "language \t with null values:  14216\n",
            "rights \t with null values:  14369\n",
            "pages \t with null values:  99\n",
            "form \t with null values:  91\n",
            "volume \t with null values:  40426\n",
            "parent \t with null values:  40575\n",
            "children \t with null values:  41842\n",
            "text_downloaded \t with null values:  343\n",
            "text_file \t with null values:  12687\n",
            "+--------------------+--------------------+--------------------+---------+--------------------+--------------------+------------------+--------+--------------------+-----+-------------------+------+------+--------+---------------+--------------------+\n",
            "|               title|                 url|        contributors|     date|              format|        fulltext_url|          trove_id|language|              rights|pages|               form|volume|parent|children|text_downloaded|           text_file|\n",
            "+--------------------+--------------------+--------------------+---------+--------------------+--------------------+------------------+--------+--------------------+-----+-------------------+------+------+--------+---------------+--------------------+\n",
            "|Goliath Joe, fish...|https://trove.nla...|  Thackeray, Charles|1900-1919|Book|Book/Illustr...|https://nla.gov.a...|nla.obj-2831231419| English|Out of Copyright|...|  130|               Book|  null|  null|    null|           True|goliath-joe-fishe...|\n",
            "|Grammar of the Na...|https://trove.nla...|      Taplin, George|1878-1880|Book|Government p...|http://nla.gov.au...| nla.obj-688657424| English|Out of Copyright|...|   24|               Book|  null|  null|    null|           True|grammar-of-the-na...|\n",
            "|The works of the ...|https://trove.nla...|Smith, Sydney, 17...|1839-1900|Book|Book/Illustr...|https://nla.gov.a...| nla.obj-630176596| English|No known copyrigh...|   65|               Book|  null|  null|    null|           True|the-works-of-the-...|\n",
            "|Nellie Doran : a ...|https://trove.nla...|       Miriam Agatha|1914-1923|                Book|http://nla.gov.au...|  nla.obj-24357566| English|Out of Copyright|...|  246|               Book|  null|  null|    null|           True|nellie-doran-a-st...|\n",
            "|Lastkraftwagen 3 ...|https://trove.nla...|Germany. Heer. He...|     1942|Book|Book/Illustr...|https://nla.gov.a...|  nla.obj-51530748|  German|Out of Copyright|...|   80|               Book|  null|  null|    null|           True|lastkraftwagen-3-...|\n",
            "|Trefoil : the sto...|https://trove.nla...|Macdonald, M. P. ...|1900-1920|Book|Book/Illustr...|http://nla.gov.au...|  nla.obj-19907304| English|Out of Copyright|...|  388|               Book|  null|  null|    null|           True|trefoil-the-story...|\n",
            "|Military report o...|https://trove.nla...|                null|     1909|Book/Illustrated|...|http://nla.gov.au...| nla.obj-233089297|    null|                null|    0|            Picture|  null|  null|    null|          False|                null|\n",
            "|Le Siege de Berli...|https://trove.nla...|                null|     1915|                Book|http://nla.gov.au...| nla.obj-509324870|    null|                null|   33|               Book|  null|  null|    null|          False|                null|\n",
            "|The Aborigines of...|https://trove.nla...|Willshire, W. H. ...|     1888|                Book|http://nla.gov.au...| nla.obj-188910904|    null|                null|   33|               Book|  null|  null|    null|           True|the-aborigines-of...|\n",
            "|Astronomia : Teut...|https://trove.nla...|Jacob, Cyriacus, ...|     1545|  Map|Map/Atlas|Book|http://nla.gov.au...| nla.obj-230899009|    null|                null|    0|            Picture|  null|  null|    null|          False|                null|\n",
            "|Glenorchy social ...|https://trove.nla...|Glenorchy (Tas.)....|     2003|Government public...|https://nla.gov.a...|nla.obj-1382470285|    null|                null|    0|Digital Publication|  null|  null|    null|          False|                null|\n",
            "|Heaven and earth ...|https://trove.nla...|     Goodall, John A|     1979|Book|Book/Illustr...|http://nla.gov.au...| nla.obj-134928341| English|No known copyrigh...|  200|               Book|  null|  null|    null|           True|heaven-and-earth-...|\n",
            "|The people's trea...|https://trove.nla...|Thompson, John (J...|     1993|Book|Book/Illustr...|http://nla.gov.au...|   nla.obj-4952636| English|        In Copyright|   92|               Book|  null|  null|    null|           True|the-people-s-trea...|\n",
            "|Catalogue of hors...|https://trove.nla...|Hunter River Agri...|     1896|Book|Book/Illustr...|http://nla.gov.au...| nla.obj-470088899| English|Out of Copyright|...|  128|               Book|  null|  null|    null|           True|catalogue-of-hors...|\n",
            "|General power of ...|https://trove.nla...|Bent, Andrew, 179...|     1827|                Book|http://nla.gov.au...|  nla.obj-76416324| English|No known copyrigh...|    2|               Book|  null|  null|    null|           True|general-power-of-...|\n",
            "|Pictures of Austr...|https://trove.nla...|Huxley, Henrietta...|     1911|                Book|http://nla.gov.au...|  nla.obj-52822048| English|Out of Copyright|...|   17|               Book|  null|  null|    null|           True|pictures-of-austr...|\n",
            "|Notes on the abor...|https://trove.nla...|Mathews, R. H. (R...|     1907|Book|Book/Illustr...|http://nla.gov.au...| nla.obj-756755978|    null|                null|   44|               Book|  null|  null|    null|           True|notes-on-the-abor...|\n",
            "|Report of the Roy...|https://trove.nla...|Australia. Royal ...|     1925|Government public...|http://nla.gov.au...| nla.obj-713670609| English|No known copyrigh...|   61|               Book|  null|  null|    null|           True|report-of-the-roy...|\n",
            "|Academic Salaries...|https://trove.nla...|Academic Salaries...|     null|                null|                null|              null|    null|                null| null|               null|  null|  null|    null|           null|                null|\n",
            "|Academic Salaries...|                null|                null|     null|                null|                null|              null|    null|                null| null|               null|  null|  null|    null|           null|                null|\n",
            "+--------------------+--------------------+--------------------+---------+--------------------+--------------------+------------------+--------+--------------------+-----+-------------------+------+------+--------+---------------+--------------------+\n",
            "only showing top 20 rows\n",
            "\n"
          ]
        }
      ]
    },
    {
      "cell_type": "code",
      "source": [
        "book_data = pd.read_csv(\"/content/drive/MyDrive/books_info.csv\")\n",
        "book_data.head()"
      ],
      "metadata": {
        "colab": {
          "base_uri": "https://localhost:8080/",
          "height": 548
        },
        "id": "WPYrJAU57BLM",
        "outputId": "6b76718f-927d-415b-b4b2-209a8bd29724"
      },
      "execution_count": 208,
      "outputs": [
        {
          "output_type": "execute_result",
          "data": {
            "text/plain": [
              "                                               title  \\\n",
              "0  Goliath Joe, fisherman / by Charles Thackeray ...   \n",
              "1  Grammar of the Narrinyeri tribe of Australian ...   \n",
              "2                 The works of the Rev. Sydney Smith   \n",
              "3  Nellie Doran : a story of Australian home and ...   \n",
              "4  Lastkraftwagen 3 t Ford : Baumuster V 3000 S :...   \n",
              "\n",
              "                                      url                    contributors  \\\n",
              "0  https://trove.nla.gov.au/work/10013347              Thackeray, Charles   \n",
              "1  https://trove.nla.gov.au/work/10029401                  Taplin, George   \n",
              "2   https://trove.nla.gov.au/work/1004403        Smith, Sydney, 1771-1845   \n",
              "3  https://trove.nla.gov.au/work/10049667                   Miriam Agatha   \n",
              "4  https://trove.nla.gov.au/work/10053234  Germany. Heer. Heereswaffenamt   \n",
              "\n",
              "        date                                        format  \\\n",
              "0  1900-1919                         Book|Book/Illustrated   \n",
              "1  1878-1880                   Book|Government publication   \n",
              "2  1839-1900               Book|Book/Illustrated|Microform   \n",
              "3  1914-1923                                          Book   \n",
              "4       1942  Book|Book/Illustrated|Government publication   \n",
              "\n",
              "                            fulltext_url            trove_id language  \\\n",
              "0  https://nla.gov.au/nla.obj-2831231419  nla.obj-2831231419  English   \n",
              "1    http://nla.gov.au/nla.obj-688657424   nla.obj-688657424  English   \n",
              "2   https://nla.gov.au/nla.obj-630176596   nla.obj-630176596  English   \n",
              "3     http://nla.gov.au/nla.obj-24357566    nla.obj-24357566  English   \n",
              "4    https://nla.gov.au/nla.obj-51530748    nla.obj-51530748   German   \n",
              "\n",
              "                                              rights  pages  form  volume  \\\n",
              "0  Out of Copyright|http://rightsstatements.org/v...    130  Book     NaN   \n",
              "1  Out of Copyright|http://rightsstatements.org/v...     24  Book     NaN   \n",
              "2  No known copyright restrictions|http://rightss...     65  Book     NaN   \n",
              "3  Out of Copyright|http://rightsstatements.org/v...    246  Book     NaN   \n",
              "4  Out of Copyright|http://rightsstatements.org/v...     80  Book     NaN   \n",
              "\n",
              "  parent children  text_downloaded  \\\n",
              "0    NaN      NaN             True   \n",
              "1    NaN      NaN             True   \n",
              "2    NaN      NaN             True   \n",
              "3    NaN      NaN             True   \n",
              "4    NaN      NaN             True   \n",
              "\n",
              "                                           text_file  \n",
              "0  goliath-joe-fisherman-by-charles-thackeray-wob...  \n",
              "1  grammar-of-the-narrinyeri-tribe-of-australian-...  \n",
              "2  the-works-of-the-rev-sydney-smith-nla.obj-6301...  \n",
              "3  nellie-doran-a-story-of-australian-home-and-sc...  \n",
              "4  lastkraftwagen-3-t-ford-baumuster-v-3000-s-ger...  "
            ],
            "text/html": [
              "\n",
              "  <div id=\"df-5982ec20-6a34-4b71-a560-e226e2d30307\">\n",
              "    <div class=\"colab-df-container\">\n",
              "      <div>\n",
              "<style scoped>\n",
              "    .dataframe tbody tr th:only-of-type {\n",
              "        vertical-align: middle;\n",
              "    }\n",
              "\n",
              "    .dataframe tbody tr th {\n",
              "        vertical-align: top;\n",
              "    }\n",
              "\n",
              "    .dataframe thead th {\n",
              "        text-align: right;\n",
              "    }\n",
              "</style>\n",
              "<table border=\"1\" class=\"dataframe\">\n",
              "  <thead>\n",
              "    <tr style=\"text-align: right;\">\n",
              "      <th></th>\n",
              "      <th>title</th>\n",
              "      <th>url</th>\n",
              "      <th>contributors</th>\n",
              "      <th>date</th>\n",
              "      <th>format</th>\n",
              "      <th>fulltext_url</th>\n",
              "      <th>trove_id</th>\n",
              "      <th>language</th>\n",
              "      <th>rights</th>\n",
              "      <th>pages</th>\n",
              "      <th>form</th>\n",
              "      <th>volume</th>\n",
              "      <th>parent</th>\n",
              "      <th>children</th>\n",
              "      <th>text_downloaded</th>\n",
              "      <th>text_file</th>\n",
              "    </tr>\n",
              "  </thead>\n",
              "  <tbody>\n",
              "    <tr>\n",
              "      <th>0</th>\n",
              "      <td>Goliath Joe, fisherman / by Charles Thackeray ...</td>\n",
              "      <td>https://trove.nla.gov.au/work/10013347</td>\n",
              "      <td>Thackeray, Charles</td>\n",
              "      <td>1900-1919</td>\n",
              "      <td>Book|Book/Illustrated</td>\n",
              "      <td>https://nla.gov.au/nla.obj-2831231419</td>\n",
              "      <td>nla.obj-2831231419</td>\n",
              "      <td>English</td>\n",
              "      <td>Out of Copyright|http://rightsstatements.org/v...</td>\n",
              "      <td>130</td>\n",
              "      <td>Book</td>\n",
              "      <td>NaN</td>\n",
              "      <td>NaN</td>\n",
              "      <td>NaN</td>\n",
              "      <td>True</td>\n",
              "      <td>goliath-joe-fisherman-by-charles-thackeray-wob...</td>\n",
              "    </tr>\n",
              "    <tr>\n",
              "      <th>1</th>\n",
              "      <td>Grammar of the Narrinyeri tribe of Australian ...</td>\n",
              "      <td>https://trove.nla.gov.au/work/10029401</td>\n",
              "      <td>Taplin, George</td>\n",
              "      <td>1878-1880</td>\n",
              "      <td>Book|Government publication</td>\n",
              "      <td>http://nla.gov.au/nla.obj-688657424</td>\n",
              "      <td>nla.obj-688657424</td>\n",
              "      <td>English</td>\n",
              "      <td>Out of Copyright|http://rightsstatements.org/v...</td>\n",
              "      <td>24</td>\n",
              "      <td>Book</td>\n",
              "      <td>NaN</td>\n",
              "      <td>NaN</td>\n",
              "      <td>NaN</td>\n",
              "      <td>True</td>\n",
              "      <td>grammar-of-the-narrinyeri-tribe-of-australian-...</td>\n",
              "    </tr>\n",
              "    <tr>\n",
              "      <th>2</th>\n",
              "      <td>The works of the Rev. Sydney Smith</td>\n",
              "      <td>https://trove.nla.gov.au/work/1004403</td>\n",
              "      <td>Smith, Sydney, 1771-1845</td>\n",
              "      <td>1839-1900</td>\n",
              "      <td>Book|Book/Illustrated|Microform</td>\n",
              "      <td>https://nla.gov.au/nla.obj-630176596</td>\n",
              "      <td>nla.obj-630176596</td>\n",
              "      <td>English</td>\n",
              "      <td>No known copyright restrictions|http://rightss...</td>\n",
              "      <td>65</td>\n",
              "      <td>Book</td>\n",
              "      <td>NaN</td>\n",
              "      <td>NaN</td>\n",
              "      <td>NaN</td>\n",
              "      <td>True</td>\n",
              "      <td>the-works-of-the-rev-sydney-smith-nla.obj-6301...</td>\n",
              "    </tr>\n",
              "    <tr>\n",
              "      <th>3</th>\n",
              "      <td>Nellie Doran : a story of Australian home and ...</td>\n",
              "      <td>https://trove.nla.gov.au/work/10049667</td>\n",
              "      <td>Miriam Agatha</td>\n",
              "      <td>1914-1923</td>\n",
              "      <td>Book</td>\n",
              "      <td>http://nla.gov.au/nla.obj-24357566</td>\n",
              "      <td>nla.obj-24357566</td>\n",
              "      <td>English</td>\n",
              "      <td>Out of Copyright|http://rightsstatements.org/v...</td>\n",
              "      <td>246</td>\n",
              "      <td>Book</td>\n",
              "      <td>NaN</td>\n",
              "      <td>NaN</td>\n",
              "      <td>NaN</td>\n",
              "      <td>True</td>\n",
              "      <td>nellie-doran-a-story-of-australian-home-and-sc...</td>\n",
              "    </tr>\n",
              "    <tr>\n",
              "      <th>4</th>\n",
              "      <td>Lastkraftwagen 3 t Ford : Baumuster V 3000 S :...</td>\n",
              "      <td>https://trove.nla.gov.au/work/10053234</td>\n",
              "      <td>Germany. Heer. Heereswaffenamt</td>\n",
              "      <td>1942</td>\n",
              "      <td>Book|Book/Illustrated|Government publication</td>\n",
              "      <td>https://nla.gov.au/nla.obj-51530748</td>\n",
              "      <td>nla.obj-51530748</td>\n",
              "      <td>German</td>\n",
              "      <td>Out of Copyright|http://rightsstatements.org/v...</td>\n",
              "      <td>80</td>\n",
              "      <td>Book</td>\n",
              "      <td>NaN</td>\n",
              "      <td>NaN</td>\n",
              "      <td>NaN</td>\n",
              "      <td>True</td>\n",
              "      <td>lastkraftwagen-3-t-ford-baumuster-v-3000-s-ger...</td>\n",
              "    </tr>\n",
              "  </tbody>\n",
              "</table>\n",
              "</div>\n",
              "      <button class=\"colab-df-convert\" onclick=\"convertToInteractive('df-5982ec20-6a34-4b71-a560-e226e2d30307')\"\n",
              "              title=\"Convert this dataframe to an interactive table.\"\n",
              "              style=\"display:none;\">\n",
              "        \n",
              "  <svg xmlns=\"http://www.w3.org/2000/svg\" height=\"24px\"viewBox=\"0 0 24 24\"\n",
              "       width=\"24px\">\n",
              "    <path d=\"M0 0h24v24H0V0z\" fill=\"none\"/>\n",
              "    <path d=\"M18.56 5.44l.94 2.06.94-2.06 2.06-.94-2.06-.94-.94-2.06-.94 2.06-2.06.94zm-11 1L8.5 8.5l.94-2.06 2.06-.94-2.06-.94L8.5 2.5l-.94 2.06-2.06.94zm10 10l.94 2.06.94-2.06 2.06-.94-2.06-.94-.94-2.06-.94 2.06-2.06.94z\"/><path d=\"M17.41 7.96l-1.37-1.37c-.4-.4-.92-.59-1.43-.59-.52 0-1.04.2-1.43.59L10.3 9.45l-7.72 7.72c-.78.78-.78 2.05 0 2.83L4 21.41c.39.39.9.59 1.41.59.51 0 1.02-.2 1.41-.59l7.78-7.78 2.81-2.81c.8-.78.8-2.07 0-2.86zM5.41 20L4 18.59l7.72-7.72 1.47 1.35L5.41 20z\"/>\n",
              "  </svg>\n",
              "      </button>\n",
              "      \n",
              "  <style>\n",
              "    .colab-df-container {\n",
              "      display:flex;\n",
              "      flex-wrap:wrap;\n",
              "      gap: 12px;\n",
              "    }\n",
              "\n",
              "    .colab-df-convert {\n",
              "      background-color: #E8F0FE;\n",
              "      border: none;\n",
              "      border-radius: 50%;\n",
              "      cursor: pointer;\n",
              "      display: none;\n",
              "      fill: #1967D2;\n",
              "      height: 32px;\n",
              "      padding: 0 0 0 0;\n",
              "      width: 32px;\n",
              "    }\n",
              "\n",
              "    .colab-df-convert:hover {\n",
              "      background-color: #E2EBFA;\n",
              "      box-shadow: 0px 1px 2px rgba(60, 64, 67, 0.3), 0px 1px 3px 1px rgba(60, 64, 67, 0.15);\n",
              "      fill: #174EA6;\n",
              "    }\n",
              "\n",
              "    [theme=dark] .colab-df-convert {\n",
              "      background-color: #3B4455;\n",
              "      fill: #D2E3FC;\n",
              "    }\n",
              "\n",
              "    [theme=dark] .colab-df-convert:hover {\n",
              "      background-color: #434B5C;\n",
              "      box-shadow: 0px 1px 3px 1px rgba(0, 0, 0, 0.15);\n",
              "      filter: drop-shadow(0px 1px 2px rgba(0, 0, 0, 0.3));\n",
              "      fill: #FFFFFF;\n",
              "    }\n",
              "  </style>\n",
              "\n",
              "      <script>\n",
              "        const buttonEl =\n",
              "          document.querySelector('#df-5982ec20-6a34-4b71-a560-e226e2d30307 button.colab-df-convert');\n",
              "        buttonEl.style.display =\n",
              "          google.colab.kernel.accessAllowed ? 'block' : 'none';\n",
              "\n",
              "        async function convertToInteractive(key) {\n",
              "          const element = document.querySelector('#df-5982ec20-6a34-4b71-a560-e226e2d30307');\n",
              "          const dataTable =\n",
              "            await google.colab.kernel.invokeFunction('convertToInteractive',\n",
              "                                                     [key], {});\n",
              "          if (!dataTable) return;\n",
              "\n",
              "          const docLinkHtml = 'Like what you see? Visit the ' +\n",
              "            '<a target=\"_blank\" href=https://colab.research.google.com/notebooks/data_table.ipynb>data table notebook</a>'\n",
              "            + ' to learn more about interactive tables.';\n",
              "          element.innerHTML = '';\n",
              "          dataTable['output_type'] = 'display_data';\n",
              "          await google.colab.output.renderOutput(dataTable, element);\n",
              "          const docLink = document.createElement('div');\n",
              "          docLink.innerHTML = docLinkHtml;\n",
              "          element.appendChild(docLink);\n",
              "        }\n",
              "      </script>\n",
              "    </div>\n",
              "  </div>\n",
              "  "
            ]
          },
          "metadata": {},
          "execution_count": 208
        }
      ]
    },
    {
      "cell_type": "markdown",
      "source": [
        "در این مرحله باید فیلد تاریخ که به صورت رنجی از سال ها هست از هم جدا شده و تبدیل به تک تاریخ شود. برای این کار برای مثال از سال 1990-2000\n",
        "تاریخ تکرار میشود که میشود ده سال، بنابراین ده بار رکورد مورد نظر تکرار شده با این تفاوت که از سال 1990\n",
        "تا 2000\n",
        "فیلد تاریخ تغییر می کند."
      ],
      "metadata": {
        "id": "HDUlKTFw6qtE"
      }
    },
    {
      "cell_type": "code",
      "source": [
        "from pyspark.sql.types import *\n",
        "\n",
        "#create schema for your dataframe\n",
        "schema = StructType([StructField(\"title\", StringType(), True)\\\n",
        "                     ,StructField(\"url\", StringType(), True)\\\n",
        "                     ,StructField(\"contributors\", StringType(), True)\\\n",
        "                     ,StructField(\"date\", StringType(), True)\\\n",
        "                   ,StructField(\"format\", StringType(), True)\\\n",
        "                   ,StructField(\"fulltext_url\", StringType(), True)\\\n",
        "                   ,StructField(\"trove_id\", StringType(), True)\\\n",
        "                   ,StructField(\"language\", StringType(), True)\\\n",
        "                   ,StructField(\"rights\", StringType(), True)\\\n",
        "                   ,StructField(\"pages\", StringType(), True)\\\n",
        "                   ,StructField(\"form\", StringType(), True)\\\n",
        "                   ,StructField(\"volume\", StringType(), True)\\\n",
        "                    ,StructField(\"children\", StringType(), True)\\\n",
        "                   ,StructField(\"parent\", StringType(), True)\\\n",
        "                   ,StructField(\"text_downloaded\", StringType(), True)\\\n",
        "                   ,StructField(\"text_file\", StringType(), True)\\\n",
        "                   ])\n",
        "book_spark=spark.createDataFrame(book_data,schema) \n",
        "book_spark.printSchema()"
      ],
      "metadata": {
        "colab": {
          "base_uri": "https://localhost:8080/",
          "height": 0
        },
        "id": "VBxYiz7W6vOX",
        "outputId": "63fc420b-41cb-4d19-e9f6-b1484f307a5f"
      },
      "execution_count": 209,
      "outputs": [
        {
          "output_type": "stream",
          "name": "stderr",
          "text": [
            "/content/spark-3.3.2-bin-hadoop3/python/pyspark/sql/pandas/conversion.py:486: FutureWarning: iteritems is deprecated and will be removed in a future version. Use .items instead.\n",
            "  for column, series in pdf.iteritems():\n"
          ]
        },
        {
          "output_type": "stream",
          "name": "stdout",
          "text": [
            "root\n",
            " |-- title: string (nullable = true)\n",
            " |-- url: string (nullable = true)\n",
            " |-- contributors: string (nullable = true)\n",
            " |-- date: string (nullable = true)\n",
            " |-- format: string (nullable = true)\n",
            " |-- fulltext_url: string (nullable = true)\n",
            " |-- trove_id: string (nullable = true)\n",
            " |-- language: string (nullable = true)\n",
            " |-- rights: string (nullable = true)\n",
            " |-- pages: string (nullable = true)\n",
            " |-- form: string (nullable = true)\n",
            " |-- volume: string (nullable = true)\n",
            " |-- children: string (nullable = true)\n",
            " |-- parent: string (nullable = true)\n",
            " |-- text_downloaded: string (nullable = true)\n",
            " |-- text_file: string (nullable = true)\n",
            "\n"
          ]
        }
      ]
    },
    {
      "cell_type": "code",
      "source": [
        "#محاسبه تعداد تاریخ هایی که به صورت تکی هستند و آن هایی که به صورت یک رنج هستند\n",
        "single_year = book_spark.where(~book_spark.date.contains(\"-\"))\n",
        "print(f\"Count of single year is: {single_year.count()}\")\n",
        "\n",
        "multiple_years = book_spark.where(book_spark.date.contains(\"-\"))\n",
        "print(f\"Count of multiple year is: {multiple_years.count()}\")\n"
      ],
      "metadata": {
        "colab": {
          "base_uri": "https://localhost:8080/",
          "height": 0
        },
        "id": "GiZn3ZqO7QlN",
        "outputId": "871ebce3-102f-40e8-9635-fae0eff30496"
      },
      "execution_count": 210,
      "outputs": [
        {
          "output_type": "stream",
          "name": "stdout",
          "text": [
            "Count of single year is: 37113\n",
            "Count of multiple year is: 5061\n"
          ]
        }
      ]
    },
    {
      "cell_type": "markdown",
      "source": [
        "**یک فیلد جدید ساخته شد و مقدار تاریخ هایی که تکی هستند در آن قرار گرفت**"
      ],
      "metadata": {
        "id": "zdvTTBxLYwl5"
      }
    },
    {
      "cell_type": "code",
      "source": [
        "# یک فیلد جدید ساخته شد و مقدار تاریخ هایی که تکی هستند در آن قرار گرفت\n",
        "book_simple_year = single_year.withColumn(\"year\", single_year.date.cast(IntegerType()))\n",
        "book_simple_year.show()"
      ],
      "metadata": {
        "colab": {
          "base_uri": "https://localhost:8080/",
          "height": 0
        },
        "id": "pbRHdEFT7bAU",
        "outputId": "d3644033-2b2e-42db-e01d-d5680c55997b"
      },
      "execution_count": 211,
      "outputs": [
        {
          "output_type": "stream",
          "name": "stdout",
          "text": [
            "+--------------------+--------------------+--------------------+----+--------------------+--------------------+------------------+--------+--------------------+-----+-------------------+------+--------+------+---------------+--------------------+----+\n",
            "|               title|                 url|        contributors|date|              format|        fulltext_url|          trove_id|language|              rights|pages|               form|volume|children|parent|text_downloaded|           text_file|year|\n",
            "+--------------------+--------------------+--------------------+----+--------------------+--------------------+------------------+--------+--------------------+-----+-------------------+------+--------+------+---------------+--------------------+----+\n",
            "|Lastkraftwagen 3 ...|https://trove.nla...|Germany. Heer. He...|1942|Book|Book/Illustr...|https://nla.gov.a...|  nla.obj-51530748|  German|Out of Copyright|...|   80|               Book|   NaN|     NaN|   NaN|           true|lastkraftwagen-3-...|1942|\n",
            "|Military report o...|https://trove.nla...|                 NaN|1909|Book/Illustrated|...|http://nla.gov.au...| nla.obj-233089297|     NaN|                 NaN|    0|            Picture|   NaN|     NaN|   NaN|          false|                 NaN|1909|\n",
            "|Le Siege de Berli...|https://trove.nla...|                 NaN|1915|                Book|http://nla.gov.au...| nla.obj-509324870|     NaN|                 NaN|   33|               Book|   NaN|     NaN|   NaN|          false|                 NaN|1915|\n",
            "|The Aborigines of...|https://trove.nla...|Willshire, W. H. ...|1888|                Book|http://nla.gov.au...| nla.obj-188910904|     NaN|                 NaN|   33|               Book|   NaN|     NaN|   NaN|           true|the-aborigines-of...|1888|\n",
            "|Astronomia : Teut...|https://trove.nla...|Jacob, Cyriacus, ...|1545|  Map|Map/Atlas|Book|http://nla.gov.au...| nla.obj-230899009|     NaN|                 NaN|    0|            Picture|   NaN|     NaN|   NaN|          false|                 NaN|1545|\n",
            "|Glenorchy social ...|https://trove.nla...|Glenorchy (Tas.)....|2003|Government public...|https://nla.gov.a...|nla.obj-1382470285|     NaN|                 NaN|    0|Digital Publication|   NaN|     NaN|   NaN|          false|                 NaN|2003|\n",
            "|Heaven and earth ...|https://trove.nla...|     Goodall, John A|1979|Book|Book/Illustr...|http://nla.gov.au...| nla.obj-134928341| English|No known copyrigh...|  200|               Book|   NaN|     NaN|   NaN|           true|heaven-and-earth-...|1979|\n",
            "|The people's trea...|https://trove.nla...|Thompson, John (J...|1993|Book|Book/Illustr...|http://nla.gov.au...|   nla.obj-4952636| English|        In Copyright|   92|               Book|   NaN|     NaN|   NaN|           true|the-people-s-trea...|1993|\n",
            "|Catalogue of hors...|https://trove.nla...|Hunter River Agri...|1896|Book|Book/Illustr...|http://nla.gov.au...| nla.obj-470088899| English|Out of Copyright|...|  128|               Book|   NaN|     NaN|   NaN|           true|catalogue-of-hors...|1896|\n",
            "|General power of ...|https://trove.nla...|Bent, Andrew, 179...|1827|                Book|http://nla.gov.au...|  nla.obj-76416324| English|No known copyrigh...|    2|               Book|   NaN|     NaN|   NaN|           true|general-power-of-...|1827|\n",
            "|Pictures of Austr...|https://trove.nla...|Huxley, Henrietta...|1911|                Book|http://nla.gov.au...|  nla.obj-52822048| English|Out of Copyright|...|   17|               Book|   NaN|     NaN|   NaN|           true|pictures-of-austr...|1911|\n",
            "|Notes on the abor...|https://trove.nla...|Mathews, R. H. (R...|1907|Book|Book/Illustr...|http://nla.gov.au...| nla.obj-756755978|     NaN|                 NaN|   44|               Book|   NaN|     NaN|   NaN|           true|notes-on-the-abor...|1907|\n",
            "|Report of the Roy...|https://trove.nla...|Australia. Royal ...|1925|Government public...|http://nla.gov.au...| nla.obj-713670609| English|No known copyrigh...|   61|               Book|   NaN|     NaN|   NaN|           true|report-of-the-roy...|1925|\n",
            "|Report of chairma...|https://trove.nla...|Australia. Board ...|1962|Government public...|https://nla.gov.a...|nla.obj-2772295258| English|                 NaN|   30|               Book|   NaN|     NaN|   NaN|           true|report-of-chairma...|1962|\n",
            "|Report of Royal C...|https://trove.nla...|Australia. Royal ...|1964|Government public...|https://nla.gov.a...| nla.obj-891191685| English|No known copyrigh...|   58|               Book|   NaN|     NaN|   NaN|           true|report-of-royal-c...|1964|\n",
            "|Report of the Roy...|https://trove.nla...|Australia. Royal ...|1927|Government public...|https://nla.gov.a...|nla.obj-2722606805| English|Out of Copyright|...|   40|               Book|   NaN|     NaN|   NaN|           true|report-of-the-roy...|1927|\n",
            "|National accounti...|https://trove.nla...| Australia. Treasury|1966|Article/Journal o...|https://nla.gov.a...|nla.obj-1692293181|     NaN|                 NaN|   30|            Journal|   NaN|     NaN|   NaN|          false|                 NaN|1966|\n",
            "|Report on the sup...|https://trove.nla...|Australia. Prime ...|1932|Government public...|https://nla.gov.a...|nla.obj-2790543660| English|Out of Copyright|...|    0|               Book|   NaN|     NaN|   NaN|          false|                 NaN|1932|\n",
            "|The higher educat...|https://trove.nla...|Australian Journa...|1919|                Book|https://nla.gov.a...| nla.obj-670501934| English|No known copyrigh...|   38|               Book|   NaN|     NaN|   NaN|           true|the-higher-educat...|1919|\n",
            "|Notes on the natu...|https://trove.nla...|Bennett, George, ...|1835|Book|Book/Illustr...|https://nla.gov.a...|  nla.obj-47884219| English|Out of Copyright|...|   31|               Book|   NaN|     NaN|   NaN|           true|notes-on-the-natu...|1835|\n",
            "+--------------------+--------------------+--------------------+----+--------------------+--------------------+------------------+--------+--------------------+-----+-------------------+------+--------+------+---------------+--------------------+----+\n",
            "only showing top 20 rows\n",
            "\n"
          ]
        }
      ]
    },
    {
      "cell_type": "code",
      "source": [
        "# برای رنج تاریخ هادر ابتدا تاریخ به دو دسته تاریخ ابتدا و تاریخ انتها تقسیم شدوسپس هر آنچه میان این رنج بود در جدول قرار گرفت\n",
        "book_multiple_year = multiple_years.withColumn(\"start\", split(multiple_years.date, \"-\").getItem(0).cast(IntegerType()))\n",
        "book_multiple_year = book_multiple_year.withColumn(\"end\", split(multiple_years.date, \"-\").getItem(1).cast(IntegerType()))\n",
        "\n",
        "book_multiple_year = book_multiple_year.withColumn(\"year\", explode(sequence(book_multiple_year.start, book_multiple_year.end)))\n",
        "\n",
        "book_multiple_year = book_multiple_year.drop(\"start\", \"end\")\n",
        "\n",
        "book_multiple_year.show()"
      ],
      "metadata": {
        "colab": {
          "base_uri": "https://localhost:8080/",
          "height": 0
        },
        "id": "AYbzsAme7mEK",
        "outputId": "e94bea16-5b90-4cba-a899-3209d284a9b4"
      },
      "execution_count": 212,
      "outputs": [
        {
          "output_type": "stream",
          "name": "stdout",
          "text": [
            "+--------------------+--------------------+------------------+---------+--------------------+--------------------+------------------+--------+--------------------+-----+----+------+--------+------+---------------+--------------------+----+\n",
            "|               title|                 url|      contributors|     date|              format|        fulltext_url|          trove_id|language|              rights|pages|form|volume|children|parent|text_downloaded|           text_file|year|\n",
            "+--------------------+--------------------+------------------+---------+--------------------+--------------------+------------------+--------+--------------------+-----+----+------+--------+------+---------------+--------------------+----+\n",
            "|Goliath Joe, fish...|https://trove.nla...|Thackeray, Charles|1900-1919|Book|Book/Illustr...|https://nla.gov.a...|nla.obj-2831231419| English|Out of Copyright|...|  130|Book|   NaN|     NaN|   NaN|           true|goliath-joe-fishe...|1900|\n",
            "|Goliath Joe, fish...|https://trove.nla...|Thackeray, Charles|1900-1919|Book|Book/Illustr...|https://nla.gov.a...|nla.obj-2831231419| English|Out of Copyright|...|  130|Book|   NaN|     NaN|   NaN|           true|goliath-joe-fishe...|1901|\n",
            "|Goliath Joe, fish...|https://trove.nla...|Thackeray, Charles|1900-1919|Book|Book/Illustr...|https://nla.gov.a...|nla.obj-2831231419| English|Out of Copyright|...|  130|Book|   NaN|     NaN|   NaN|           true|goliath-joe-fishe...|1902|\n",
            "|Goliath Joe, fish...|https://trove.nla...|Thackeray, Charles|1900-1919|Book|Book/Illustr...|https://nla.gov.a...|nla.obj-2831231419| English|Out of Copyright|...|  130|Book|   NaN|     NaN|   NaN|           true|goliath-joe-fishe...|1903|\n",
            "|Goliath Joe, fish...|https://trove.nla...|Thackeray, Charles|1900-1919|Book|Book/Illustr...|https://nla.gov.a...|nla.obj-2831231419| English|Out of Copyright|...|  130|Book|   NaN|     NaN|   NaN|           true|goliath-joe-fishe...|1904|\n",
            "|Goliath Joe, fish...|https://trove.nla...|Thackeray, Charles|1900-1919|Book|Book/Illustr...|https://nla.gov.a...|nla.obj-2831231419| English|Out of Copyright|...|  130|Book|   NaN|     NaN|   NaN|           true|goliath-joe-fishe...|1905|\n",
            "|Goliath Joe, fish...|https://trove.nla...|Thackeray, Charles|1900-1919|Book|Book/Illustr...|https://nla.gov.a...|nla.obj-2831231419| English|Out of Copyright|...|  130|Book|   NaN|     NaN|   NaN|           true|goliath-joe-fishe...|1906|\n",
            "|Goliath Joe, fish...|https://trove.nla...|Thackeray, Charles|1900-1919|Book|Book/Illustr...|https://nla.gov.a...|nla.obj-2831231419| English|Out of Copyright|...|  130|Book|   NaN|     NaN|   NaN|           true|goliath-joe-fishe...|1907|\n",
            "|Goliath Joe, fish...|https://trove.nla...|Thackeray, Charles|1900-1919|Book|Book/Illustr...|https://nla.gov.a...|nla.obj-2831231419| English|Out of Copyright|...|  130|Book|   NaN|     NaN|   NaN|           true|goliath-joe-fishe...|1908|\n",
            "|Goliath Joe, fish...|https://trove.nla...|Thackeray, Charles|1900-1919|Book|Book/Illustr...|https://nla.gov.a...|nla.obj-2831231419| English|Out of Copyright|...|  130|Book|   NaN|     NaN|   NaN|           true|goliath-joe-fishe...|1909|\n",
            "|Goliath Joe, fish...|https://trove.nla...|Thackeray, Charles|1900-1919|Book|Book/Illustr...|https://nla.gov.a...|nla.obj-2831231419| English|Out of Copyright|...|  130|Book|   NaN|     NaN|   NaN|           true|goliath-joe-fishe...|1910|\n",
            "|Goliath Joe, fish...|https://trove.nla...|Thackeray, Charles|1900-1919|Book|Book/Illustr...|https://nla.gov.a...|nla.obj-2831231419| English|Out of Copyright|...|  130|Book|   NaN|     NaN|   NaN|           true|goliath-joe-fishe...|1911|\n",
            "|Goliath Joe, fish...|https://trove.nla...|Thackeray, Charles|1900-1919|Book|Book/Illustr...|https://nla.gov.a...|nla.obj-2831231419| English|Out of Copyright|...|  130|Book|   NaN|     NaN|   NaN|           true|goliath-joe-fishe...|1912|\n",
            "|Goliath Joe, fish...|https://trove.nla...|Thackeray, Charles|1900-1919|Book|Book/Illustr...|https://nla.gov.a...|nla.obj-2831231419| English|Out of Copyright|...|  130|Book|   NaN|     NaN|   NaN|           true|goliath-joe-fishe...|1913|\n",
            "|Goliath Joe, fish...|https://trove.nla...|Thackeray, Charles|1900-1919|Book|Book/Illustr...|https://nla.gov.a...|nla.obj-2831231419| English|Out of Copyright|...|  130|Book|   NaN|     NaN|   NaN|           true|goliath-joe-fishe...|1914|\n",
            "|Goliath Joe, fish...|https://trove.nla...|Thackeray, Charles|1900-1919|Book|Book/Illustr...|https://nla.gov.a...|nla.obj-2831231419| English|Out of Copyright|...|  130|Book|   NaN|     NaN|   NaN|           true|goliath-joe-fishe...|1915|\n",
            "|Goliath Joe, fish...|https://trove.nla...|Thackeray, Charles|1900-1919|Book|Book/Illustr...|https://nla.gov.a...|nla.obj-2831231419| English|Out of Copyright|...|  130|Book|   NaN|     NaN|   NaN|           true|goliath-joe-fishe...|1916|\n",
            "|Goliath Joe, fish...|https://trove.nla...|Thackeray, Charles|1900-1919|Book|Book/Illustr...|https://nla.gov.a...|nla.obj-2831231419| English|Out of Copyright|...|  130|Book|   NaN|     NaN|   NaN|           true|goliath-joe-fishe...|1917|\n",
            "|Goliath Joe, fish...|https://trove.nla...|Thackeray, Charles|1900-1919|Book|Book/Illustr...|https://nla.gov.a...|nla.obj-2831231419| English|Out of Copyright|...|  130|Book|   NaN|     NaN|   NaN|           true|goliath-joe-fishe...|1918|\n",
            "|Goliath Joe, fish...|https://trove.nla...|Thackeray, Charles|1900-1919|Book|Book/Illustr...|https://nla.gov.a...|nla.obj-2831231419| English|Out of Copyright|...|  130|Book|   NaN|     NaN|   NaN|           true|goliath-joe-fishe...|1919|\n",
            "+--------------------+--------------------+------------------+---------+--------------------+--------------------+------------------+--------+--------------------+-----+----+------+--------+------+---------------+--------------------+----+\n",
            "only showing top 20 rows\n",
            "\n"
          ]
        }
      ]
    },
    {
      "cell_type": "code",
      "source": [
        "all_year = book_simple_year.union(book_multiple_year)\n",
        "print(f\"The number of records after spliting date is: {all_year.count()}\")\n",
        "all_year.show()"
      ],
      "metadata": {
        "colab": {
          "base_uri": "https://localhost:8080/",
          "height": 0
        },
        "id": "51abluuX7x21",
        "outputId": "ea3f541e-830b-4812-ad6c-02a8e396f3d2"
      },
      "execution_count": 213,
      "outputs": [
        {
          "output_type": "stream",
          "name": "stdout",
          "text": [
            "The number of records after spliting date is: 250108\n",
            "+--------------------+--------------------+--------------------+----+--------------------+--------------------+------------------+--------+--------------------+-----+-------------------+------+--------+------+---------------+--------------------+----+\n",
            "|               title|                 url|        contributors|date|              format|        fulltext_url|          trove_id|language|              rights|pages|               form|volume|children|parent|text_downloaded|           text_file|year|\n",
            "+--------------------+--------------------+--------------------+----+--------------------+--------------------+------------------+--------+--------------------+-----+-------------------+------+--------+------+---------------+--------------------+----+\n",
            "|Lastkraftwagen 3 ...|https://trove.nla...|Germany. Heer. He...|1942|Book|Book/Illustr...|https://nla.gov.a...|  nla.obj-51530748|  German|Out of Copyright|...|   80|               Book|   NaN|     NaN|   NaN|           true|lastkraftwagen-3-...|1942|\n",
            "|Military report o...|https://trove.nla...|                 NaN|1909|Book/Illustrated|...|http://nla.gov.au...| nla.obj-233089297|     NaN|                 NaN|    0|            Picture|   NaN|     NaN|   NaN|          false|                 NaN|1909|\n",
            "|Le Siege de Berli...|https://trove.nla...|                 NaN|1915|                Book|http://nla.gov.au...| nla.obj-509324870|     NaN|                 NaN|   33|               Book|   NaN|     NaN|   NaN|          false|                 NaN|1915|\n",
            "|The Aborigines of...|https://trove.nla...|Willshire, W. H. ...|1888|                Book|http://nla.gov.au...| nla.obj-188910904|     NaN|                 NaN|   33|               Book|   NaN|     NaN|   NaN|           true|the-aborigines-of...|1888|\n",
            "|Astronomia : Teut...|https://trove.nla...|Jacob, Cyriacus, ...|1545|  Map|Map/Atlas|Book|http://nla.gov.au...| nla.obj-230899009|     NaN|                 NaN|    0|            Picture|   NaN|     NaN|   NaN|          false|                 NaN|1545|\n",
            "|Glenorchy social ...|https://trove.nla...|Glenorchy (Tas.)....|2003|Government public...|https://nla.gov.a...|nla.obj-1382470285|     NaN|                 NaN|    0|Digital Publication|   NaN|     NaN|   NaN|          false|                 NaN|2003|\n",
            "|Heaven and earth ...|https://trove.nla...|     Goodall, John A|1979|Book|Book/Illustr...|http://nla.gov.au...| nla.obj-134928341| English|No known copyrigh...|  200|               Book|   NaN|     NaN|   NaN|           true|heaven-and-earth-...|1979|\n",
            "|The people's trea...|https://trove.nla...|Thompson, John (J...|1993|Book|Book/Illustr...|http://nla.gov.au...|   nla.obj-4952636| English|        In Copyright|   92|               Book|   NaN|     NaN|   NaN|           true|the-people-s-trea...|1993|\n",
            "|Catalogue of hors...|https://trove.nla...|Hunter River Agri...|1896|Book|Book/Illustr...|http://nla.gov.au...| nla.obj-470088899| English|Out of Copyright|...|  128|               Book|   NaN|     NaN|   NaN|           true|catalogue-of-hors...|1896|\n",
            "|General power of ...|https://trove.nla...|Bent, Andrew, 179...|1827|                Book|http://nla.gov.au...|  nla.obj-76416324| English|No known copyrigh...|    2|               Book|   NaN|     NaN|   NaN|           true|general-power-of-...|1827|\n",
            "|Pictures of Austr...|https://trove.nla...|Huxley, Henrietta...|1911|                Book|http://nla.gov.au...|  nla.obj-52822048| English|Out of Copyright|...|   17|               Book|   NaN|     NaN|   NaN|           true|pictures-of-austr...|1911|\n",
            "|Notes on the abor...|https://trove.nla...|Mathews, R. H. (R...|1907|Book|Book/Illustr...|http://nla.gov.au...| nla.obj-756755978|     NaN|                 NaN|   44|               Book|   NaN|     NaN|   NaN|           true|notes-on-the-abor...|1907|\n",
            "|Report of the Roy...|https://trove.nla...|Australia. Royal ...|1925|Government public...|http://nla.gov.au...| nla.obj-713670609| English|No known copyrigh...|   61|               Book|   NaN|     NaN|   NaN|           true|report-of-the-roy...|1925|\n",
            "|Report of chairma...|https://trove.nla...|Australia. Board ...|1962|Government public...|https://nla.gov.a...|nla.obj-2772295258| English|                 NaN|   30|               Book|   NaN|     NaN|   NaN|           true|report-of-chairma...|1962|\n",
            "|Report of Royal C...|https://trove.nla...|Australia. Royal ...|1964|Government public...|https://nla.gov.a...| nla.obj-891191685| English|No known copyrigh...|   58|               Book|   NaN|     NaN|   NaN|           true|report-of-royal-c...|1964|\n",
            "|Report of the Roy...|https://trove.nla...|Australia. Royal ...|1927|Government public...|https://nla.gov.a...|nla.obj-2722606805| English|Out of Copyright|...|   40|               Book|   NaN|     NaN|   NaN|           true|report-of-the-roy...|1927|\n",
            "|National accounti...|https://trove.nla...| Australia. Treasury|1966|Article/Journal o...|https://nla.gov.a...|nla.obj-1692293181|     NaN|                 NaN|   30|            Journal|   NaN|     NaN|   NaN|          false|                 NaN|1966|\n",
            "|Report on the sup...|https://trove.nla...|Australia. Prime ...|1932|Government public...|https://nla.gov.a...|nla.obj-2790543660| English|Out of Copyright|...|    0|               Book|   NaN|     NaN|   NaN|          false|                 NaN|1932|\n",
            "|The higher educat...|https://trove.nla...|Australian Journa...|1919|                Book|https://nla.gov.a...| nla.obj-670501934| English|No known copyrigh...|   38|               Book|   NaN|     NaN|   NaN|           true|the-higher-educat...|1919|\n",
            "|Notes on the natu...|https://trove.nla...|Bennett, George, ...|1835|Book|Book/Illustr...|https://nla.gov.a...|  nla.obj-47884219| English|Out of Copyright|...|   31|               Book|   NaN|     NaN|   NaN|           true|notes-on-the-natu...|1835|\n",
            "+--------------------+--------------------+--------------------+----+--------------------+--------------------+------------------+--------+--------------------+-----+-------------------+------+--------+------+---------------+--------------------+----+\n",
            "only showing top 20 rows\n",
            "\n"
          ]
        }
      ]
    },
    {
      "cell_type": "code",
      "source": [
        "all_year.printSchema()"
      ],
      "metadata": {
        "colab": {
          "base_uri": "https://localhost:8080/",
          "height": 0
        },
        "id": "Xv-CiEiM72lV",
        "outputId": "bf8fec78-83e8-4fce-ca22-b97b3cba694c"
      },
      "execution_count": 215,
      "outputs": [
        {
          "output_type": "stream",
          "name": "stdout",
          "text": [
            "root\n",
            " |-- title: string (nullable = true)\n",
            " |-- url: string (nullable = true)\n",
            " |-- contributors: string (nullable = true)\n",
            " |-- date: string (nullable = true)\n",
            " |-- format: string (nullable = true)\n",
            " |-- fulltext_url: string (nullable = true)\n",
            " |-- trove_id: string (nullable = true)\n",
            " |-- language: string (nullable = true)\n",
            " |-- rights: string (nullable = true)\n",
            " |-- pages: string (nullable = true)\n",
            " |-- form: string (nullable = true)\n",
            " |-- volume: string (nullable = true)\n",
            " |-- children: string (nullable = true)\n",
            " |-- parent: string (nullable = true)\n",
            " |-- text_downloaded: string (nullable = true)\n",
            " |-- text_file: string (nullable = true)\n",
            " |-- year: integer (nullable = true)\n",
            "\n"
          ]
        }
      ]
    },
    {
      "cell_type": "code",
      "source": [
        "#ذخیره به صورت فایل سی اس وی برای اینکه بتوان راحت تر ان را به الستیک سرچ ارسال کرد\n",
        "data_book = all_year.write.format('csv').option('header','true').option('sep',',').save('data_book.csv')"
      ],
      "metadata": {
        "id": "K5Dv3cBt8c7d"
      },
      "execution_count": 216,
      "outputs": []
    },
    {
      "cell_type": "markdown",
      "source": [
        "**گام اول: ذخیره دیتا در الستیک سرچ و پاسخ به دو سوال**"
      ],
      "metadata": {
        "id": "XTiDuyfeLyGO"
      }
    },
    {
      "cell_type": "code",
      "source": [
        "mappings = {\n",
        "        \"properties\": {\n",
        "            \"title\": {\"type\": \"text\", \"analyzer\": \"english\"},\n",
        "            \"url:\": {\"type\": \"text\", \"analyzer\": \"standard\"},\n",
        "            \"contributors:\": {\"type\": \"text\", \"analyzer\": \"standard\"},\n",
        "            \"date\": {\"type\": \"date\", \"format\": \"yyyy\"},\n",
        "            \"format\": {\"type\": \"text\", \"analyzer\": \"standard\"},\n",
        "            \"fulltext_url\": {\"type\": \"text\", \"analyzer\": \"english\"},\n",
        "            \"trove_id\": {\"type\": \"text\", \"analyzer\": \"english\"},\n",
        "            \"language\": {\"type\": \"text\", \"analyzer\": \"english\"},\n",
        "            \"rights\": {\"type\": \"text\", \"analyzer\": \"english\"},\n",
        "            \"pages\": {\"type\": \"integer\"},\n",
        "            \"form\": {\"type\": \"text\", \"analyzer\": \"english\"},\n",
        "             \"volume\": {\"type\": \"integer\"},\n",
        "            \"children\": {\"type\": \"text\", \"analyzer\": \"english\"},           \n",
        "            \"parent\": {\"type\": \"text\", \"analyzer\": \"standard\"},\n",
        "            \"text_downloaded\": {\"type\": \"boolean\"},\n",
        "            \"text_file\": {\"type\": \"text\", \"analyzer\": \"standard\"},\n",
        "             \"year\": {\"type\": \"integer\"},\n",
        "    }\n",
        "}\n",
        "\n",
        "es.indices.create(index=\"book_data\", mappings=mappings)"
      ],
      "metadata": {
        "id": "O1FN1gghmbEX"
      },
      "execution_count": null,
      "outputs": []
    },
    {
      "cell_type": "markdown",
      "source": [
        "**برای ذخیره دیتا چندین روش وجود دارد که اینجا از بالک استفاده شد**"
      ],
      "metadata": {
        "id": "I6pezJ07PFga"
      }
    },
    {
      "cell_type": "code",
      "source": [
        "#save csv file in elasticsearch of books index \n",
        "\n",
        "from elasticsearch import helpers, Elasticsearch\n",
        "import pandas as pd\n",
        "import json\n",
        "\n",
        "#book_data = pd.read_csv(all_year)\n",
        "json_str = all_year.toPandas().to_json(orient='records')\n",
        "\n",
        "json_records = json.loads(json_str)\n",
        "\n",
        "index_name = 'book_data'\n",
        "doctype = 'book_data'\n",
        "\n",
        "action_list = []\n",
        "for row in json_records:\n",
        "    record ={\n",
        "        '_op_type': 'index',\n",
        "        '_index': index_name,\n",
        "        '_source': row\n",
        "    }\n",
        "    action_list.append(record)\n",
        "helpers.bulk(es, action_list)"
      ],
      "metadata": {
        "colab": {
          "base_uri": "https://localhost:8080/",
          "height": 0
        },
        "id": "dCsG7Y9fAOum",
        "outputId": "9dc60998-985a-4f0e-ca13-fbe81d6cc1a2"
      },
      "execution_count": 223,
      "outputs": [
        {
          "output_type": "execute_result",
          "data": {
            "text/plain": [
              "(250108, [])"
            ]
          },
          "metadata": {},
          "execution_count": 223
        }
      ]
    },
    {
      "cell_type": "code",
      "source": [
        "#check for exist books index\n",
        "\n",
        "from elasticsearch import helpers, Elasticsearch\n",
        "index_exists = es.indices.exists(index='book_data')\n",
        "if index_exists==True :\n",
        "    print(\"ok\")\n",
        "elif index_exists==False :\n",
        "    print(\"not exist\")\n"
      ],
      "metadata": {
        "colab": {
          "base_uri": "https://localhost:8080/",
          "height": 0
        },
        "id": "s2JjDZRqCGnX",
        "outputId": "d0a04f8f-0160-45b9-c1a0-f34d551f4c98"
      },
      "execution_count": 224,
      "outputs": [
        {
          "output_type": "stream",
          "name": "stdout",
          "text": [
            "ok\n"
          ]
        }
      ]
    },
    {
      "cell_type": "code",
      "source": [
        "#read book of children/Question 1\n",
        "\n",
        "from elasticsearch import Elasticsearch\n",
        "from elasticsearch.helpers import scan\n",
        "import pandas as pd\n",
        "\n",
        "\n",
        "def get_data_from_elastic():\n",
        "    # query: The elasticsearch query.\n",
        "    query = {\n",
        "        \"query\": {\n",
        "                \"match\": {\n",
        "                \"children\": \"nla.obj-396883876|nla.obj-61875251\"\n",
        "            }\n",
        "        }\n",
        "    }\n",
        "\n",
        "    # Scan function to get all the data. \n",
        "    rel = scan(client=es,             \n",
        "               query=query,                                     \n",
        "               scroll='1m',\n",
        "               index='books',\n",
        "               raise_on_error=True,\n",
        "               preserve_order=False,\n",
        "               clear_scroll=True)\n",
        "\n",
        "    # Keep response in a list.\n",
        "    result = list(rel)\n",
        "\n",
        "    temp = []\n",
        "\n",
        "    # We need only '_source', which has all the fields required.\n",
        "    # This elimantes the elasticsearch metdata like _id, _type, _index.\n",
        "    for hit in result:\n",
        "        temp.append(hit['_source'])\n",
        "\n",
        "    # Create a dataframe.\n",
        "    df = pd.DataFrame(temp)\n",
        "\n",
        "    return df\n",
        "\n",
        "\n",
        "df = get_data_from_elastic()\n",
        "\n",
        "print(df)"
      ],
      "metadata": {
        "colab": {
          "base_uri": "https://localhost:8080/",
          "height": 0
        },
        "id": "PJb16afUG1e1",
        "outputId": "9f4fcee7-7ff0-438b-9241-37e93c434d78"
      },
      "execution_count": 225,
      "outputs": [
        {
          "output_type": "stream",
          "name": "stdout",
          "text": [
            "                                                 title  \\\n",
            "0    William Caxton : a contribution in commemorati...   \n",
            "1    Southern sunbeams : an Australian annual for t...   \n",
            "2    The Australasian fruit culturist : containing ...   \n",
            "3    Geological investigations, Sambor Dam site, Ca...   \n",
            "4                                      Letters of Dion   \n",
            "..                                                 ...   \n",
            "244  The Burke and Wills exploring expedition : an ...   \n",
            "245  The Burke and Wills exploring expedition : an ...   \n",
            "246  In memoriam : Mr. William E. Ross of Garangula...   \n",
            "247  In memoriam : Mr. William E. Ross of Garangula...   \n",
            "248  Letters, clippings and memorabilia of the late...   \n",
            "\n",
            "                                        url                     contributors  \\\n",
            "0    https://trove.nla.gov.au/work/18645810          Ferres, John, 1818-1898   \n",
            "1    https://trove.nla.gov.au/work/18650727              Williams, Charles P   \n",
            "2    https://trove.nla.gov.au/work/18653172        Crichton, David Alexander   \n",
            "3    https://trove.nla.gov.au/work/18670648                  Stapledon, D. H   \n",
            "4    https://trove.nla.gov.au/work/18673906                             Dion   \n",
            "..                                      ...                              ...   \n",
            "244  https://trove.nla.gov.au/work/11299937  Burke, Robert O'Hara, 1821-1861   \n",
            "245  https://trove.nla.gov.au/work/11299937  Burke, Robert O'Hara, 1821-1861   \n",
            "246  https://trove.nla.gov.au/work/11868885                              NaN   \n",
            "247  https://trove.nla.gov.au/work/11868885                              NaN   \n",
            "248  https://trove.nla.gov.au/work/12089059                              NaN   \n",
            "\n",
            "     date                                            format  \\\n",
            "0    1871                             Book|Book/Illustrated   \n",
            "1    1879                             Book|Book/Illustrated   \n",
            "2    1893                             Book/Illustrated|Book   \n",
            "3    1962  Book|Map|Book/Illustrated|Government publication   \n",
            "4    1851                                              Book   \n",
            "..    ...                                               ...   \n",
            "244  1861                             Book/Illustrated|Book   \n",
            "245  1861                             Book/Illustrated|Book   \n",
            "246  1925                             Book/Illustrated|Book   \n",
            "247  1925                             Book/Illustrated|Book   \n",
            "248   NaN                             Book/Illustrated|Book   \n",
            "\n",
            "                              fulltext_url            trove_id language  \\\n",
            "0      http://nla.gov.au/nla.obj-402484730   nla.obj-402484730  English   \n",
            "1      http://nla.gov.au/nla.obj-759745346   nla.obj-759745346  English   \n",
            "2    https://nla.gov.au/nla.obj-1305473121  nla.obj-1305473121     None   \n",
            "3      http://nla.gov.au/nla.obj-741048037   nla.obj-741048037  English   \n",
            "4      http://nla.gov.au/nla.obj-401136766   nla.obj-401136766  English   \n",
            "..                                     ...                 ...      ...   \n",
            "244    http://nla.gov.au/nla.obj-396883876   nla.obj-396883876      NaN   \n",
            "245     http://nla.gov.au/nla.obj-61875251    nla.obj-61875251      NaN   \n",
            "246    http://nla.gov.au/nla.obj-369214840   nla.obj-369214840      NaN   \n",
            "247     http://nla.gov.au/nla.obj-43624359    nla.obj-43624359      NaN   \n",
            "248    http://nla.gov.au/nla.obj-368067052   nla.obj-368067052      NaN   \n",
            "\n",
            "                              rights pages               form volume parent  \\\n",
            "0                   Out of Copyright     0  Multi Volume Book   None   None   \n",
            "1    No known copyright restrictions     0  Multi Volume Book   None   None   \n",
            "2                               None     0  Multi Volume Book   None   None   \n",
            "3    No known copyright restrictions     0  Multi Volume Book   None   None   \n",
            "4                   Out of Copyright     0  Multi Volume Book   None   None   \n",
            "..                               ...   ...                ...    ...    ...   \n",
            "244                              NaN    46  Multi Volume Book    1.0    NaN   \n",
            "245                              NaN    46  Multi Volume Book    2.0    NaN   \n",
            "246                              NaN    31  Multi Volume Book    1.0    NaN   \n",
            "247                              NaN    18  Multi Volume Book    2.0    NaN   \n",
            "248                              NaN     1  Multi Volume Book    1.0    NaN   \n",
            "\n",
            "                                  children text_downloaded  \\\n",
            "0       nla.obj-402485076|nla.obj-75799669           False   \n",
            "1       nla.obj-759745541|nla.obj-77820910           False   \n",
            "2    nla.obj-1507220107|nla.obj-1507504276           False   \n",
            "3      nla.obj-741048130|nla.obj-741933096           False   \n",
            "4      nla.obj-401359318|nla.obj-243906312           False   \n",
            "..                                     ...             ...   \n",
            "244                      nla.obj-396866331            true   \n",
            "245                      nla.obj-396866331            true   \n",
            "246                      nla.obj-368940792            true   \n",
            "247                      nla.obj-368940792            true   \n",
            "248                      nla.obj-364552287            true   \n",
            "\n",
            "                                             text_file    year  \n",
            "0                                                 None     NaN  \n",
            "1                                                 None     NaN  \n",
            "2                                                 None     NaN  \n",
            "3                                                 None     NaN  \n",
            "4                                                 None     NaN  \n",
            "..                                                 ...     ...  \n",
            "244  the-burke-and-wills-exploring-expedition-an-ac...  1861.0  \n",
            "245  the-burke-and-wills-exploring-expedition-an-ac...  1861.0  \n",
            "246  in-memoriam-mr-william-e-ross-of-garangula-ha-...  1925.0  \n",
            "247  in-memoriam-mr-william-e-ross-of-garangula-ha-...  1925.0  \n",
            "248  letters-clippings-and-memorabilia-of-the-late-...     NaN  \n",
            "\n",
            "[249 rows x 17 columns]\n"
          ]
        }
      ]
    },
    {
      "cell_type": "code",
      "source": [
        "#میانگین صفحات کتاب کودکان 1\n",
        "query = {\n",
        "  \"query\": {\n",
        "    \"bool\": {\n",
        "      \"must_not\": {\n",
        "        \"exists\": {\n",
        "          \"field\": \"children\"\n",
        "        }\n",
        "      }\n",
        "    }\n",
        "  },\n",
        "  \"aggs\": {\n",
        "    \"average_pages\": {\n",
        "      \"avg\": {\n",
        "        \"field\": \"pages\"\n",
        "      }\n",
        "    }\n",
        "  }\n",
        "}\n",
        "rel = scan(client=es,             \n",
        "               query=query,                                     \n",
        "               scroll='1m',\n",
        "               index='book_data',\n",
        "               raise_on_error=True,\n",
        "               preserve_order=False,\n",
        "               clear_scroll=True)\n",
        "# Keep response in a list.\n",
        "result = list(rel)\n",
        "\n",
        "temp = []\n",
        "\n",
        "    # We need only '_source', which has all the fields required.\n",
        "    # This elimantes the elasticsearch metdata like _id, _type, _index.\n",
        "for hit in result:\n",
        "    temp.append(hit['_source'])\n",
        "\n",
        "    # Create a dataframe.\n",
        "df = pd.DataFrame(temp)\n",
        "\n",
        "#response = es.search(index = 'book_data', body = query)\n",
        "\n",
        "# retrieve the counts from the response\n",
        "print(f\"The average pages of children books is: {df}.\")"
      ],
      "metadata": {
        "id": "6h-7oMDGNbnL"
      },
      "execution_count": null,
      "outputs": []
    },
    {
      "cell_type": "code",
      "source": [
        "#میانگین صفحات کتاب کودکان 2\n",
        "def get_avg_page_children():\n",
        "  query = {\n",
        "        \"query\": {\n",
        "                \"match\": {\n",
        "                \"children\": \"nla.obj-396883876|nla.obj-61875251\"\n",
        "            }\n",
        "        }\n",
        "    }\n",
        "\n",
        "    # Scan function to get all the data. \n",
        "    rel = scan(client=es,             \n",
        "               query=query,                                     \n",
        "               scroll='1m',\n",
        "               index='books',\n",
        "               raise_on_error=True,\n",
        "               preserve_order=False,\n",
        "               clear_scroll=True)\n",
        "\n",
        "    # Keep response in a list.\n",
        "    result = list(rel)\n",
        "\n",
        "    temp = []\n",
        "\n",
        "    # We need only '_source', which has all the fields required.\n",
        "    # This elimantes the elasticsearch metdata like _id, _type, _index.\n",
        "    for hit in result:\n",
        "        temp.append(hit['_source'])\n",
        "\n",
        "    # Create a dataframe.\n",
        "    df2 = pd.DataFrame(temp)\n",
        "\n",
        "    return df2\n",
        "\n",
        "df2 = get_avg_page_children(df)\n"
      ],
      "metadata": {
        "id": "Eh1wcS5adUZr"
      },
      "execution_count": null,
      "outputs": []
    },
    {
      "cell_type": "code",
      "source": [
        "# محاسبه اینکه در چه سالی بیشترین کتاب چاپ شده است\n",
        "query = {\n",
        "  \"size\": 0,\n",
        "  \"aggs\": {\n",
        "    \"group_by_year\": {\n",
        "      \"terms\": {\n",
        "        \"field\": \"year\",\n",
        "        \"size\": 10,\n",
        "        \"order\": {\n",
        "          \"count\": \"desc\"\n",
        "        }\n",
        "      },\n",
        "      \"aggs\": {\n",
        "        \"count\": {\n",
        "          \"value_count\": {\n",
        "            \"field\": \"year\"\n",
        "          }\n",
        "        }\n",
        "      }\n",
        "    }\n",
        "  }\n",
        "}\n",
        "\n",
        "rel = scan(client=es,             \n",
        "               query=query,                                     \n",
        "               scroll='1m',\n",
        "               index='book_data',\n",
        "               raise_on_error=True,\n",
        "               preserve_order=False,\n",
        "               clear_scroll=True)\n",
        "# Keep response in a list.\n",
        "result = list(rel)\n",
        "\n",
        "temp = []\n",
        "\n",
        "    # We need only '_source', which has all the fields required.\n",
        "    # This elimantes the elasticsearch metdata like _id, _type, _index.\n",
        "for hit in result:\n",
        "    temp.append(hit['_source'])\n",
        "\n",
        "    # Create a dataframe.\n",
        "df = pd.DataFrame(temp)\n",
        "\n",
        "print(f\"Year: {df.year}, Count: {df.year.count()}\")"
      ],
      "metadata": {
        "id": "hWHOVu4qMst9"
      },
      "execution_count": null,
      "outputs": []
    },
    {
      "cell_type": "markdown",
      "source": [
        "**گام سوم: ایجاد جدول در کاساندرا و ذخیره دیتا در جداول**"
      ],
      "metadata": {
        "id": "seRhACErueyp"
      }
    },
    {
      "cell_type": "code",
      "source": [
        "from cassandra.cluster import Cluster\n",
        "cluster=Cluster()\n",
        "session=cluster.connect()\n",
        "\n",
        "session.execute(\"create keyspace bookskeyspace with replication={'class': 'SimpleStrategy', 'replication_factor': 1};\")\n",
        "\n",
        "session = cluster.connect('bookskeyspace');"
      ],
      "metadata": {
        "colab": {
          "base_uri": "https://localhost:8080/",
          "height": 0
        },
        "id": "eccTS-KEmxpr",
        "outputId": "c5d4d047-b589-4db4-da62-f9833b6cf7ad"
      },
      "execution_count": 247,
      "outputs": [
        {
          "output_type": "stream",
          "name": "stderr",
          "text": [
            "WARNING:cassandra.cluster:Downgrading core protocol version from 66 to 65 for 127.0.0.1:9042. To avoid this, it is best practice to explicitly set Cluster(protocol_version) to the version supported by your cluster. http://datastax.github.io/python-driver/api/cassandra/cluster.html#cassandra.cluster.Cluster.protocol_version\n",
            "WARNING:cassandra.cluster:Downgrading core protocol version from 65 to 5 for 127.0.0.1:9042. To avoid this, it is best practice to explicitly set Cluster(protocol_version) to the version supported by your cluster. http://datastax.github.io/python-driver/api/cassandra/cluster.html#cassandra.cluster.Cluster.protocol_version\n"
          ]
        }
      ]
    },
    {
      "cell_type": "code",
      "source": [
        "q=\"CREATE TABLE ChildrenBooks(\\\n",
        "        id int,\\\n",
        "        trove_id text,\\\n",
        "        title text,\\\n",
        "        contributurs text,\\\n",
        "        fulltext_url text,\\\n",
        "        format text,\\\n",
        "        pages int,\\\n",
        "        year int,\\\n",
        "        PRIMARY KEY (trove_id, id)\\\n",
        "        )\"\n",
        "\n",
        "session.execute(q)"
      ],
      "metadata": {
        "colab": {
          "base_uri": "https://localhost:8080/",
          "height": 0
        },
        "id": "Ax5Qw_ylu0Va",
        "outputId": "029a7cf9-a314-4b9a-9a94-601619627f12"
      },
      "execution_count": 248,
      "outputs": [
        {
          "output_type": "execute_result",
          "data": {
            "text/plain": [
              "<cassandra.cluster.ResultSet at 0x7f5e4a4b69b0>"
            ]
          },
          "metadata": {},
          "execution_count": 248
        }
      ]
    },
    {
      "cell_type": "code",
      "source": [
        "#جدول برای کتاب والدین\n",
        "q=\"CREATE TABLE ParentBooks(\\\n",
        "        id uuid,\\\n",
        "        trove_id text,\\\n",
        "        title text,\\\n",
        "        contributurs text,\\\n",
        "        fulltext_url text,\\\n",
        "        format text,\\\n",
        "        pages int,\\\n",
        "        year int,\\\n",
        "        PRIMARY KEY (trove_id, id)\\\n",
        "        )\"\n",
        "\n",
        "session.execute(q)"
      ],
      "metadata": {
        "colab": {
          "base_uri": "https://localhost:8080/",
          "height": 0
        },
        "id": "oTlayB4Hwq3E",
        "outputId": "99feee3f-8b1d-4f46-e041-23e49a822e66"
      },
      "execution_count": 249,
      "outputs": [
        {
          "output_type": "execute_result",
          "data": {
            "text/plain": [
              "<cassandra.cluster.ResultSet at 0x7f5e431bcc10>"
            ]
          },
          "metadata": {},
          "execution_count": 249
        }
      ]
    },
    {
      "cell_type": "code",
      "source": [
        "all_year.show()"
      ],
      "metadata": {
        "colab": {
          "base_uri": "https://localhost:8080/",
          "height": 0
        },
        "id": "ycnAf5XYAhVM",
        "outputId": "e54ad0ab-77d8-495e-e9ed-cc26c5bf9f64"
      },
      "execution_count": 236,
      "outputs": [
        {
          "output_type": "stream",
          "name": "stdout",
          "text": [
            "+--------------------+--------------------+--------------------+----+--------------------+--------------------+------------------+--------+--------------------+-----+-------------------+------+--------+------+---------------+--------------------+----+\n",
            "|               title|                 url|        contributors|date|              format|        fulltext_url|          trove_id|language|              rights|pages|               form|volume|children|parent|text_downloaded|           text_file|year|\n",
            "+--------------------+--------------------+--------------------+----+--------------------+--------------------+------------------+--------+--------------------+-----+-------------------+------+--------+------+---------------+--------------------+----+\n",
            "|Lastkraftwagen 3 ...|https://trove.nla...|Germany. Heer. He...|1942|Book|Book/Illustr...|https://nla.gov.a...|  nla.obj-51530748|  German|Out of Copyright|...|   80|               Book|   NaN|     NaN|   NaN|           true|lastkraftwagen-3-...|1942|\n",
            "|Military report o...|https://trove.nla...|                 NaN|1909|Book/Illustrated|...|http://nla.gov.au...| nla.obj-233089297|     NaN|                 NaN|    0|            Picture|   NaN|     NaN|   NaN|          false|                 NaN|1909|\n",
            "|Le Siege de Berli...|https://trove.nla...|                 NaN|1915|                Book|http://nla.gov.au...| nla.obj-509324870|     NaN|                 NaN|   33|               Book|   NaN|     NaN|   NaN|          false|                 NaN|1915|\n",
            "|The Aborigines of...|https://trove.nla...|Willshire, W. H. ...|1888|                Book|http://nla.gov.au...| nla.obj-188910904|     NaN|                 NaN|   33|               Book|   NaN|     NaN|   NaN|           true|the-aborigines-of...|1888|\n",
            "|Astronomia : Teut...|https://trove.nla...|Jacob, Cyriacus, ...|1545|  Map|Map/Atlas|Book|http://nla.gov.au...| nla.obj-230899009|     NaN|                 NaN|    0|            Picture|   NaN|     NaN|   NaN|          false|                 NaN|1545|\n",
            "|Glenorchy social ...|https://trove.nla...|Glenorchy (Tas.)....|2003|Government public...|https://nla.gov.a...|nla.obj-1382470285|     NaN|                 NaN|    0|Digital Publication|   NaN|     NaN|   NaN|          false|                 NaN|2003|\n",
            "|Heaven and earth ...|https://trove.nla...|     Goodall, John A|1979|Book|Book/Illustr...|http://nla.gov.au...| nla.obj-134928341| English|No known copyrigh...|  200|               Book|   NaN|     NaN|   NaN|           true|heaven-and-earth-...|1979|\n",
            "|The people's trea...|https://trove.nla...|Thompson, John (J...|1993|Book|Book/Illustr...|http://nla.gov.au...|   nla.obj-4952636| English|        In Copyright|   92|               Book|   NaN|     NaN|   NaN|           true|the-people-s-trea...|1993|\n",
            "|Catalogue of hors...|https://trove.nla...|Hunter River Agri...|1896|Book|Book/Illustr...|http://nla.gov.au...| nla.obj-470088899| English|Out of Copyright|...|  128|               Book|   NaN|     NaN|   NaN|           true|catalogue-of-hors...|1896|\n",
            "|General power of ...|https://trove.nla...|Bent, Andrew, 179...|1827|                Book|http://nla.gov.au...|  nla.obj-76416324| English|No known copyrigh...|    2|               Book|   NaN|     NaN|   NaN|           true|general-power-of-...|1827|\n",
            "|Pictures of Austr...|https://trove.nla...|Huxley, Henrietta...|1911|                Book|http://nla.gov.au...|  nla.obj-52822048| English|Out of Copyright|...|   17|               Book|   NaN|     NaN|   NaN|           true|pictures-of-austr...|1911|\n",
            "|Notes on the abor...|https://trove.nla...|Mathews, R. H. (R...|1907|Book|Book/Illustr...|http://nla.gov.au...| nla.obj-756755978|     NaN|                 NaN|   44|               Book|   NaN|     NaN|   NaN|           true|notes-on-the-abor...|1907|\n",
            "|Report of the Roy...|https://trove.nla...|Australia. Royal ...|1925|Government public...|http://nla.gov.au...| nla.obj-713670609| English|No known copyrigh...|   61|               Book|   NaN|     NaN|   NaN|           true|report-of-the-roy...|1925|\n",
            "|Report of chairma...|https://trove.nla...|Australia. Board ...|1962|Government public...|https://nla.gov.a...|nla.obj-2772295258| English|                 NaN|   30|               Book|   NaN|     NaN|   NaN|           true|report-of-chairma...|1962|\n",
            "|Report of Royal C...|https://trove.nla...|Australia. Royal ...|1964|Government public...|https://nla.gov.a...| nla.obj-891191685| English|No known copyrigh...|   58|               Book|   NaN|     NaN|   NaN|           true|report-of-royal-c...|1964|\n",
            "|Report of the Roy...|https://trove.nla...|Australia. Royal ...|1927|Government public...|https://nla.gov.a...|nla.obj-2722606805| English|Out of Copyright|...|   40|               Book|   NaN|     NaN|   NaN|           true|report-of-the-roy...|1927|\n",
            "|National accounti...|https://trove.nla...| Australia. Treasury|1966|Article/Journal o...|https://nla.gov.a...|nla.obj-1692293181|     NaN|                 NaN|   30|            Journal|   NaN|     NaN|   NaN|          false|                 NaN|1966|\n",
            "|Report on the sup...|https://trove.nla...|Australia. Prime ...|1932|Government public...|https://nla.gov.a...|nla.obj-2790543660| English|Out of Copyright|...|    0|               Book|   NaN|     NaN|   NaN|          false|                 NaN|1932|\n",
            "|The higher educat...|https://trove.nla...|Australian Journa...|1919|                Book|https://nla.gov.a...| nla.obj-670501934| English|No known copyrigh...|   38|               Book|   NaN|     NaN|   NaN|           true|the-higher-educat...|1919|\n",
            "|Notes on the natu...|https://trove.nla...|Bennett, George, ...|1835|Book|Book/Illustr...|https://nla.gov.a...|  nla.obj-47884219| English|Out of Copyright|...|   31|               Book|   NaN|     NaN|   NaN|           true|notes-on-the-natu...|1835|\n",
            "+--------------------+--------------------+--------------------+----+--------------------+--------------------+------------------+--------+--------------------+-----+-------------------+------+--------+------+---------------+--------------------+----+\n",
            "only showing top 20 rows\n",
            "\n"
          ]
        }
      ]
    },
    {
      "cell_type": "code",
      "source": [
        "from pyspark.sql.types import *\n",
        "\n",
        "children_book_p = all_year.where(all_year.children.isNotNull())\n",
        "\n",
        "#create schema for your dataframe\n",
        "schema = StructType([StructField(\"title\", StringType(), True)\\\n",
        "                     ,StructField(\"url\", StringType(), True)\\\n",
        "                     ,StructField(\"contributors\", StringType(), True)\\\n",
        "                     ,StructField(\"date\", StringType(), True)\\\n",
        "                   ,StructField(\"format\", StringType(), True)\\\n",
        "                   ,StructField(\"fulltext_url\", StringType(), True)\\\n",
        "                   ,StructField(\"trove_id\", StringType(), True)\\\n",
        "                   ,StructField(\"language\", StringType(), True)\\\n",
        "                   ,StructField(\"rights\", StringType(), True)\\\n",
        "                   ,StructField(\"pages\", StringType(), True)\\\n",
        "                   ,StructField(\"form\", StringType(), True)\\\n",
        "                   ,StructField(\"volume\", StringType(), True)\\\n",
        "                    ,StructField(\"children\", StringType(), True)\\\n",
        "                   ,StructField(\"parent\", StringType(), True)\\\n",
        "                   ,StructField(\"text_downloaded\", StringType(), True)\\\n",
        "                   ,StructField(\"text_file\", StringType(), True)\\\n",
        "                   ,StructField(\"year\", IntegerType(), True)\\\n",
        "                   ])\n",
        "#children_book_s=spark.createDataFrame(children_book_p,schema) \n",
        "children_book_p.show()\n"
      ],
      "metadata": {
        "colab": {
          "base_uri": "https://localhost:8080/",
          "height": 0
        },
        "id": "kVOb19uvDRqw",
        "outputId": "74ab56ba-5b7a-42db-b4c9-f12a95b859c5"
      },
      "execution_count": 244,
      "outputs": [
        {
          "output_type": "stream",
          "name": "stdout",
          "text": [
            "+--------------------+--------------------+--------------------+----+--------------------+--------------------+------------------+--------+--------------------+-----+-------------------+------+--------+------+---------------+--------------------+----+\n",
            "|               title|                 url|        contributors|date|              format|        fulltext_url|          trove_id|language|              rights|pages|               form|volume|children|parent|text_downloaded|           text_file|year|\n",
            "+--------------------+--------------------+--------------------+----+--------------------+--------------------+------------------+--------+--------------------+-----+-------------------+------+--------+------+---------------+--------------------+----+\n",
            "|Lastkraftwagen 3 ...|https://trove.nla...|Germany. Heer. He...|1942|Book|Book/Illustr...|https://nla.gov.a...|  nla.obj-51530748|  German|Out of Copyright|...|   80|               Book|   NaN|     NaN|   NaN|           true|lastkraftwagen-3-...|1942|\n",
            "|Military report o...|https://trove.nla...|                 NaN|1909|Book/Illustrated|...|http://nla.gov.au...| nla.obj-233089297|     NaN|                 NaN|    0|            Picture|   NaN|     NaN|   NaN|          false|                 NaN|1909|\n",
            "|Le Siege de Berli...|https://trove.nla...|                 NaN|1915|                Book|http://nla.gov.au...| nla.obj-509324870|     NaN|                 NaN|   33|               Book|   NaN|     NaN|   NaN|          false|                 NaN|1915|\n",
            "|The Aborigines of...|https://trove.nla...|Willshire, W. H. ...|1888|                Book|http://nla.gov.au...| nla.obj-188910904|     NaN|                 NaN|   33|               Book|   NaN|     NaN|   NaN|           true|the-aborigines-of...|1888|\n",
            "|Astronomia : Teut...|https://trove.nla...|Jacob, Cyriacus, ...|1545|  Map|Map/Atlas|Book|http://nla.gov.au...| nla.obj-230899009|     NaN|                 NaN|    0|            Picture|   NaN|     NaN|   NaN|          false|                 NaN|1545|\n",
            "|Glenorchy social ...|https://trove.nla...|Glenorchy (Tas.)....|2003|Government public...|https://nla.gov.a...|nla.obj-1382470285|     NaN|                 NaN|    0|Digital Publication|   NaN|     NaN|   NaN|          false|                 NaN|2003|\n",
            "|Heaven and earth ...|https://trove.nla...|     Goodall, John A|1979|Book|Book/Illustr...|http://nla.gov.au...| nla.obj-134928341| English|No known copyrigh...|  200|               Book|   NaN|     NaN|   NaN|           true|heaven-and-earth-...|1979|\n",
            "|The people's trea...|https://trove.nla...|Thompson, John (J...|1993|Book|Book/Illustr...|http://nla.gov.au...|   nla.obj-4952636| English|        In Copyright|   92|               Book|   NaN|     NaN|   NaN|           true|the-people-s-trea...|1993|\n",
            "|Catalogue of hors...|https://trove.nla...|Hunter River Agri...|1896|Book|Book/Illustr...|http://nla.gov.au...| nla.obj-470088899| English|Out of Copyright|...|  128|               Book|   NaN|     NaN|   NaN|           true|catalogue-of-hors...|1896|\n",
            "|General power of ...|https://trove.nla...|Bent, Andrew, 179...|1827|                Book|http://nla.gov.au...|  nla.obj-76416324| English|No known copyrigh...|    2|               Book|   NaN|     NaN|   NaN|           true|general-power-of-...|1827|\n",
            "|Pictures of Austr...|https://trove.nla...|Huxley, Henrietta...|1911|                Book|http://nla.gov.au...|  nla.obj-52822048| English|Out of Copyright|...|   17|               Book|   NaN|     NaN|   NaN|           true|pictures-of-austr...|1911|\n",
            "|Notes on the abor...|https://trove.nla...|Mathews, R. H. (R...|1907|Book|Book/Illustr...|http://nla.gov.au...| nla.obj-756755978|     NaN|                 NaN|   44|               Book|   NaN|     NaN|   NaN|           true|notes-on-the-abor...|1907|\n",
            "|Report of the Roy...|https://trove.nla...|Australia. Royal ...|1925|Government public...|http://nla.gov.au...| nla.obj-713670609| English|No known copyrigh...|   61|               Book|   NaN|     NaN|   NaN|           true|report-of-the-roy...|1925|\n",
            "|Report of chairma...|https://trove.nla...|Australia. Board ...|1962|Government public...|https://nla.gov.a...|nla.obj-2772295258| English|                 NaN|   30|               Book|   NaN|     NaN|   NaN|           true|report-of-chairma...|1962|\n",
            "|Report of Royal C...|https://trove.nla...|Australia. Royal ...|1964|Government public...|https://nla.gov.a...| nla.obj-891191685| English|No known copyrigh...|   58|               Book|   NaN|     NaN|   NaN|           true|report-of-royal-c...|1964|\n",
            "|Report of the Roy...|https://trove.nla...|Australia. Royal ...|1927|Government public...|https://nla.gov.a...|nla.obj-2722606805| English|Out of Copyright|...|   40|               Book|   NaN|     NaN|   NaN|           true|report-of-the-roy...|1927|\n",
            "|National accounti...|https://trove.nla...| Australia. Treasury|1966|Article/Journal o...|https://nla.gov.a...|nla.obj-1692293181|     NaN|                 NaN|   30|            Journal|   NaN|     NaN|   NaN|          false|                 NaN|1966|\n",
            "|Report on the sup...|https://trove.nla...|Australia. Prime ...|1932|Government public...|https://nla.gov.a...|nla.obj-2790543660| English|Out of Copyright|...|    0|               Book|   NaN|     NaN|   NaN|          false|                 NaN|1932|\n",
            "|The higher educat...|https://trove.nla...|Australian Journa...|1919|                Book|https://nla.gov.a...| nla.obj-670501934| English|No known copyrigh...|   38|               Book|   NaN|     NaN|   NaN|           true|the-higher-educat...|1919|\n",
            "|Notes on the natu...|https://trove.nla...|Bennett, George, ...|1835|Book|Book/Illustr...|https://nla.gov.a...|  nla.obj-47884219| English|Out of Copyright|...|   31|               Book|   NaN|     NaN|   NaN|           true|notes-on-the-natu...|1835|\n",
            "+--------------------+--------------------+--------------------+----+--------------------+--------------------+------------------+--------+--------------------+-----+-------------------+------+--------+------+---------------+--------------------+----+\n",
            "only showing top 20 rows\n",
            "\n"
          ]
        }
      ]
    },
    {
      "cell_type": "code",
      "source": [
        "from pyspark.sql.types import *\n",
        "\n",
        "parent_book_p = all_year.where(all_year.parent.isNotNull())\n",
        "\n",
        "#create schema for your dataframe\n",
        "schema = StructType([StructField(\"title\", StringType(), True)\\\n",
        "                     ,StructField(\"url\", StringType(), True)\\\n",
        "                     ,StructField(\"contributors\", StringType(), True)\\\n",
        "                     ,StructField(\"date\", StringType(), True)\\\n",
        "                   ,StructField(\"format\", StringType(), True)\\\n",
        "                   ,StructField(\"fulltext_url\", StringType(), True)\\\n",
        "                   ,StructField(\"trove_id\", StringType(), True)\\\n",
        "                   ,StructField(\"language\", StringType(), True)\\\n",
        "                   ,StructField(\"rights\", StringType(), True)\\\n",
        "                   ,StructField(\"pages\", StringType(), True)\\\n",
        "                   ,StructField(\"form\", StringType(), True)\\\n",
        "                   ,StructField(\"volume\", StringType(), True)\\\n",
        "                    ,StructField(\"children\", StringType(), True)\\\n",
        "                   ,StructField(\"parent\", StringType(), True)\\\n",
        "                   ,StructField(\"text_downloaded\", StringType(), True)\\\n",
        "                   ,StructField(\"text_file\", StringType(), True)\\\n",
        "                   ])\n",
        "#parenr_book_s=spark.createDataFrame(parent_book_p,schema) \n",
        "parent_book_p.show()\n"
      ],
      "metadata": {
        "colab": {
          "base_uri": "https://localhost:8080/",
          "height": 0
        },
        "id": "_jKHAaE9fqqy",
        "outputId": "802bd0ed-a670-465d-facb-0aa9fc67ae9b"
      },
      "execution_count": 245,
      "outputs": [
        {
          "output_type": "stream",
          "name": "stdout",
          "text": [
            "+--------------------+--------------------+--------------------+----+--------------------+--------------------+------------------+--------+--------------------+-----+-------------------+------+--------+------+---------------+--------------------+----+\n",
            "|               title|                 url|        contributors|date|              format|        fulltext_url|          trove_id|language|              rights|pages|               form|volume|children|parent|text_downloaded|           text_file|year|\n",
            "+--------------------+--------------------+--------------------+----+--------------------+--------------------+------------------+--------+--------------------+-----+-------------------+------+--------+------+---------------+--------------------+----+\n",
            "|Lastkraftwagen 3 ...|https://trove.nla...|Germany. Heer. He...|1942|Book|Book/Illustr...|https://nla.gov.a...|  nla.obj-51530748|  German|Out of Copyright|...|   80|               Book|   NaN|     NaN|   NaN|           true|lastkraftwagen-3-...|1942|\n",
            "|Military report o...|https://trove.nla...|                 NaN|1909|Book/Illustrated|...|http://nla.gov.au...| nla.obj-233089297|     NaN|                 NaN|    0|            Picture|   NaN|     NaN|   NaN|          false|                 NaN|1909|\n",
            "|Le Siege de Berli...|https://trove.nla...|                 NaN|1915|                Book|http://nla.gov.au...| nla.obj-509324870|     NaN|                 NaN|   33|               Book|   NaN|     NaN|   NaN|          false|                 NaN|1915|\n",
            "|The Aborigines of...|https://trove.nla...|Willshire, W. H. ...|1888|                Book|http://nla.gov.au...| nla.obj-188910904|     NaN|                 NaN|   33|               Book|   NaN|     NaN|   NaN|           true|the-aborigines-of...|1888|\n",
            "|Astronomia : Teut...|https://trove.nla...|Jacob, Cyriacus, ...|1545|  Map|Map/Atlas|Book|http://nla.gov.au...| nla.obj-230899009|     NaN|                 NaN|    0|            Picture|   NaN|     NaN|   NaN|          false|                 NaN|1545|\n",
            "|Glenorchy social ...|https://trove.nla...|Glenorchy (Tas.)....|2003|Government public...|https://nla.gov.a...|nla.obj-1382470285|     NaN|                 NaN|    0|Digital Publication|   NaN|     NaN|   NaN|          false|                 NaN|2003|\n",
            "|Heaven and earth ...|https://trove.nla...|     Goodall, John A|1979|Book|Book/Illustr...|http://nla.gov.au...| nla.obj-134928341| English|No known copyrigh...|  200|               Book|   NaN|     NaN|   NaN|           true|heaven-and-earth-...|1979|\n",
            "|The people's trea...|https://trove.nla...|Thompson, John (J...|1993|Book|Book/Illustr...|http://nla.gov.au...|   nla.obj-4952636| English|        In Copyright|   92|               Book|   NaN|     NaN|   NaN|           true|the-people-s-trea...|1993|\n",
            "|Catalogue of hors...|https://trove.nla...|Hunter River Agri...|1896|Book|Book/Illustr...|http://nla.gov.au...| nla.obj-470088899| English|Out of Copyright|...|  128|               Book|   NaN|     NaN|   NaN|           true|catalogue-of-hors...|1896|\n",
            "|General power of ...|https://trove.nla...|Bent, Andrew, 179...|1827|                Book|http://nla.gov.au...|  nla.obj-76416324| English|No known copyrigh...|    2|               Book|   NaN|     NaN|   NaN|           true|general-power-of-...|1827|\n",
            "|Pictures of Austr...|https://trove.nla...|Huxley, Henrietta...|1911|                Book|http://nla.gov.au...|  nla.obj-52822048| English|Out of Copyright|...|   17|               Book|   NaN|     NaN|   NaN|           true|pictures-of-austr...|1911|\n",
            "|Notes on the abor...|https://trove.nla...|Mathews, R. H. (R...|1907|Book|Book/Illustr...|http://nla.gov.au...| nla.obj-756755978|     NaN|                 NaN|   44|               Book|   NaN|     NaN|   NaN|           true|notes-on-the-abor...|1907|\n",
            "|Report of the Roy...|https://trove.nla...|Australia. Royal ...|1925|Government public...|http://nla.gov.au...| nla.obj-713670609| English|No known copyrigh...|   61|               Book|   NaN|     NaN|   NaN|           true|report-of-the-roy...|1925|\n",
            "|Report of chairma...|https://trove.nla...|Australia. Board ...|1962|Government public...|https://nla.gov.a...|nla.obj-2772295258| English|                 NaN|   30|               Book|   NaN|     NaN|   NaN|           true|report-of-chairma...|1962|\n",
            "|Report of Royal C...|https://trove.nla...|Australia. Royal ...|1964|Government public...|https://nla.gov.a...| nla.obj-891191685| English|No known copyrigh...|   58|               Book|   NaN|     NaN|   NaN|           true|report-of-royal-c...|1964|\n",
            "|Report of the Roy...|https://trove.nla...|Australia. Royal ...|1927|Government public...|https://nla.gov.a...|nla.obj-2722606805| English|Out of Copyright|...|   40|               Book|   NaN|     NaN|   NaN|           true|report-of-the-roy...|1927|\n",
            "|National accounti...|https://trove.nla...| Australia. Treasury|1966|Article/Journal o...|https://nla.gov.a...|nla.obj-1692293181|     NaN|                 NaN|   30|            Journal|   NaN|     NaN|   NaN|          false|                 NaN|1966|\n",
            "|Report on the sup...|https://trove.nla...|Australia. Prime ...|1932|Government public...|https://nla.gov.a...|nla.obj-2790543660| English|Out of Copyright|...|    0|               Book|   NaN|     NaN|   NaN|          false|                 NaN|1932|\n",
            "|The higher educat...|https://trove.nla...|Australian Journa...|1919|                Book|https://nla.gov.a...| nla.obj-670501934| English|No known copyrigh...|   38|               Book|   NaN|     NaN|   NaN|           true|the-higher-educat...|1919|\n",
            "|Notes on the natu...|https://trove.nla...|Bennett, George, ...|1835|Book|Book/Illustr...|https://nla.gov.a...|  nla.obj-47884219| English|Out of Copyright|...|   31|               Book|   NaN|     NaN|   NaN|           true|notes-on-the-natu...|1835|\n",
            "+--------------------+--------------------+--------------------+----+--------------------+--------------------+------------------+--------+--------------------+-----+-------------------+------+--------+------+---------------+--------------------+----+\n",
            "only showing top 20 rows\n",
            "\n"
          ]
        }
      ]
    },
    {
      "cell_type": "code",
      "source": [
        "#store data in cassandra (ChildrenBooks)\n",
        "\n",
        "child =\"INSERT INTO ChildrenBooks (id, trove_id, title, fulltext_url, format, pages, year) \\\n",
        "                        VALUES (%s, %s, %s, %s, %s, %s, %s)\"\n",
        "count = 1\n",
        "for row in children_book_p.collect():\n",
        "  #print(row)\n",
        "  session.execute(child, (count, row.trove_id, row.title, row.fulltext_url, row.format, int(float(row.pages)), row.year))\n",
        "  count = count + 1\n",
        "\n",
        "print(\"success!\")"
      ],
      "metadata": {
        "id": "5QzOxqlHyjnb",
        "colab": {
          "base_uri": "https://localhost:8080/",
          "height": 0
        },
        "outputId": "e9540637-077f-4c85-d2ff-13ffdba52202"
      },
      "execution_count": 250,
      "outputs": [
        {
          "output_type": "stream",
          "name": "stdout",
          "text": [
            "success!\n"
          ]
        }
      ]
    },
    {
      "cell_type": "code",
      "source": [
        "#store data in cassandra (ParentBooks)\n",
        "\n",
        "parent =\"INSERT INTO ParentBooks (id, trove_id, title, fulltext_url, format, pages, year) \\\n",
        "                        VALUES (uuid(), %s, %s, %s, %s, %s, %s)\"\n",
        "count = 1\n",
        "for row in parent_book_p.collect():\n",
        "  #print(row)\n",
        "  session.execute(parent, (row.trove_id, row.title, row.fulltext_url, row.format, int(float(row.pages)), row.year))\n",
        "  count = count + 1\n",
        "\n",
        "print(\"success!\")"
      ],
      "metadata": {
        "colab": {
          "base_uri": "https://localhost:8080/",
          "height": 0
        },
        "id": "N_ExM90Ff5YO",
        "outputId": "06344a77-6214-4a7c-d21f-77e35ab8afd6"
      },
      "execution_count": 251,
      "outputs": [
        {
          "output_type": "stream",
          "name": "stdout",
          "text": [
            "success!\n"
          ]
        }
      ]
    },
    {
      "cell_type": "markdown",
      "source": [
        "**گام چهارم: پاسخ به کوئری ها**"
      ],
      "metadata": {
        "id": "8K8qP_Pjho3H"
      }
    },
    {
      "cell_type": "code",
      "source": [
        "#میانگین صفحات کتاب موجود در دو جدول فرزندان و والدین\n",
        "page_children = session.execute(\"SELECT AVG(pages) AS avg_page FROM ChildrenBooks\")\n",
        "\n",
        "for row in page_children:\n",
        "  print(f\"Avg of page_children is: {row.avg_page}\")\n",
        "\n",
        "page_parent = session.execute(\"SELECT AVG(pages) AS avg_page FROM ParentBooks\")\n",
        "\n",
        "for row in page_parent:\n",
        "  print(f\"Avg of page_parent is: {row.avg_page}\")\n"
      ],
      "metadata": {
        "colab": {
          "base_uri": "https://localhost:8080/",
          "height": 0
        },
        "id": "B-CgZkWWhvJv",
        "outputId": "28099fd6-209e-4aeb-dd55-ed3df9b4eb00"
      },
      "execution_count": 253,
      "outputs": [
        {
          "output_type": "stream",
          "name": "stderr",
          "text": [
            "WARNING:cassandra.protocol:Server warning: Aggregation query used without partition key\n"
          ]
        },
        {
          "output_type": "stream",
          "name": "stdout",
          "text": [
            "Avg of page_children is: 89\n"
          ]
        },
        {
          "output_type": "stream",
          "name": "stderr",
          "text": [
            "WARNING:cassandra.protocol:Server warning: Aggregation query used without partition key\n"
          ]
        },
        {
          "output_type": "stream",
          "name": "stdout",
          "text": [
            "Avg of page_parent is: 89\n"
          ]
        }
      ]
    },
    {
      "cell_type": "code",
      "source": [
        "#کتاب هایی که قبل از سال 2000 چاپ شده اند\n",
        "book_before_2000 = session.execute(\"SELECT trove_id, title, fulltext_url, format, pages, year FROM ParentBooks \\\n",
        "                            WHERE year < 2000 ALLOW FILTERING\")\n",
        "#for row in book_before_2000:\n",
        "#    print(f\"Count of books before 2000:\" ,{row})\n",
        "book_2000=spark.createDataFrame(book_before_2000) \n",
        "print(book_2000.count())"
      ],
      "metadata": {
        "id": "kBgZe6oPn-PH",
        "colab": {
          "base_uri": "https://localhost:8080/",
          "height": 0
        },
        "outputId": "5dae47f2-ebb3-4300-c1e3-8894fe9f7925"
      },
      "execution_count": 262,
      "outputs": [
        {
          "output_type": "stream",
          "name": "stdout",
          "text": [
            "220012\n"
          ]
        }
      ]
    }
  ]
}